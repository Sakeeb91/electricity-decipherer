{
 "cells": [
  {
   "cell_type": "code",
   "execution_count": 35,
   "metadata": {},
   "outputs": [],
   "source": [
    "import pandas as pd\n",
    "import os\n",
    "import datetime\n",
    "\n",
    "LOCAL_DATASET_PATH = \"../data/input_datasets\""
   ]
  },
  {
   "cell_type": "code",
   "execution_count": 36,
   "metadata": {},
   "outputs": [
    {
     "name": "stdout",
     "output_type": "stream",
     "text": [
      "<class 'pandas.core.frame.DataFrame'>\n",
      "Int64Index: 527040 entries, 547596 to 1074635\n",
      "Data columns (total 9 columns):\n",
      " #   Column                 Non-Null Count   Dtype  \n",
      "---  ------                 --------------   -----  \n",
      " 0   date                   527040 non-null  object \n",
      " 1   time                   527040 non-null  object \n",
      " 2   global_active_power    526905 non-null  float64\n",
      " 3   global_reactive_power  526905 non-null  float64\n",
      " 4   voltage                526905 non-null  float64\n",
      " 5   global_intensity       526905 non-null  float64\n",
      " 6   sub_metering_1         526905 non-null  float64\n",
      " 7   sub_metering_2         526905 non-null  float64\n",
      " 8   sub_metering_3         526905 non-null  float64\n",
      "dtypes: float64(7), object(2)\n",
      "memory usage: 40.2+ MB\n"
     ]
    }
   ],
   "source": [
    "# Take just a subset of the data for now (year==2008)\n",
    "data = pd.read_csv('../data/household_power_consumption.txt', sep=';', na_values='?')\n",
    "data = data[data.Date.str.endswith('2008')]\n",
    "data.columns = data.columns.str.lower()\n",
    "data.info()"
   ]
  },
  {
   "cell_type": "code",
   "execution_count": 37,
   "metadata": {},
   "outputs": [],
   "source": [
    "# Create global_consumption\n",
    "labels = ['sub_metering_1', 'sub_metering_2', 'sub_metering_3']\n",
    "data['global_consumption'] = data[labels].sum(axis=1)"
   ]
  },
  {
   "cell_type": "code",
   "execution_count": 38,
   "metadata": {},
   "outputs": [
    {
     "data": {
      "text/plain": [
       "((527040, 7), (527040, 3))"
      ]
     },
     "execution_count": 38,
     "metadata": {},
     "output_type": "execute_result"
    }
   ],
   "source": [
    "# Create X, y and save datetime in a separeted column\n",
    "X = data.drop(columns=labels)\n",
    "y = data[labels]\n",
    "X.shape, y.shape"
   ]
  },
  {
   "cell_type": "code",
   "execution_count": 39,
   "metadata": {},
   "outputs": [
    {
     "data": {
      "text/html": [
       "<div>\n",
       "<style scoped>\n",
       "    .dataframe tbody tr th:only-of-type {\n",
       "        vertical-align: middle;\n",
       "    }\n",
       "\n",
       "    .dataframe tbody tr th {\n",
       "        vertical-align: top;\n",
       "    }\n",
       "\n",
       "    .dataframe thead th {\n",
       "        text-align: right;\n",
       "    }\n",
       "</style>\n",
       "<table border=\"1\" class=\"dataframe\">\n",
       "  <thead>\n",
       "    <tr style=\"text-align: right;\">\n",
       "      <th></th>\n",
       "      <th>date</th>\n",
       "      <th>time</th>\n",
       "      <th>global_active_power</th>\n",
       "      <th>global_reactive_power</th>\n",
       "      <th>voltage</th>\n",
       "      <th>global_intensity</th>\n",
       "      <th>global_consumption</th>\n",
       "    </tr>\n",
       "  </thead>\n",
       "  <tbody>\n",
       "    <tr>\n",
       "      <th>547596</th>\n",
       "      <td>1/1/2008</td>\n",
       "      <td>00:00:00</td>\n",
       "      <td>1.620</td>\n",
       "      <td>0.070</td>\n",
       "      <td>241.25</td>\n",
       "      <td>6.6</td>\n",
       "      <td>18.0</td>\n",
       "    </tr>\n",
       "    <tr>\n",
       "      <th>547597</th>\n",
       "      <td>1/1/2008</td>\n",
       "      <td>00:01:00</td>\n",
       "      <td>1.626</td>\n",
       "      <td>0.072</td>\n",
       "      <td>241.74</td>\n",
       "      <td>6.6</td>\n",
       "      <td>18.0</td>\n",
       "    </tr>\n",
       "    <tr>\n",
       "      <th>547598</th>\n",
       "      <td>1/1/2008</td>\n",
       "      <td>00:02:00</td>\n",
       "      <td>1.622</td>\n",
       "      <td>0.072</td>\n",
       "      <td>241.52</td>\n",
       "      <td>6.6</td>\n",
       "      <td>18.0</td>\n",
       "    </tr>\n",
       "    <tr>\n",
       "      <th>547599</th>\n",
       "      <td>1/1/2008</td>\n",
       "      <td>00:03:00</td>\n",
       "      <td>1.612</td>\n",
       "      <td>0.070</td>\n",
       "      <td>240.82</td>\n",
       "      <td>6.6</td>\n",
       "      <td>18.0</td>\n",
       "    </tr>\n",
       "    <tr>\n",
       "      <th>547600</th>\n",
       "      <td>1/1/2008</td>\n",
       "      <td>00:04:00</td>\n",
       "      <td>1.612</td>\n",
       "      <td>0.070</td>\n",
       "      <td>240.80</td>\n",
       "      <td>6.6</td>\n",
       "      <td>18.0</td>\n",
       "    </tr>\n",
       "    <tr>\n",
       "      <th>...</th>\n",
       "      <td>...</td>\n",
       "      <td>...</td>\n",
       "      <td>...</td>\n",
       "      <td>...</td>\n",
       "      <td>...</td>\n",
       "      <td>...</td>\n",
       "      <td>...</td>\n",
       "    </tr>\n",
       "    <tr>\n",
       "      <th>1074631</th>\n",
       "      <td>31/12/2008</td>\n",
       "      <td>23:55:00</td>\n",
       "      <td>0.484</td>\n",
       "      <td>0.064</td>\n",
       "      <td>247.69</td>\n",
       "      <td>2.2</td>\n",
       "      <td>0.0</td>\n",
       "    </tr>\n",
       "    <tr>\n",
       "      <th>1074632</th>\n",
       "      <td>31/12/2008</td>\n",
       "      <td>23:56:00</td>\n",
       "      <td>0.482</td>\n",
       "      <td>0.064</td>\n",
       "      <td>247.35</td>\n",
       "      <td>2.2</td>\n",
       "      <td>0.0</td>\n",
       "    </tr>\n",
       "    <tr>\n",
       "      <th>1074633</th>\n",
       "      <td>31/12/2008</td>\n",
       "      <td>23:57:00</td>\n",
       "      <td>0.482</td>\n",
       "      <td>0.064</td>\n",
       "      <td>246.99</td>\n",
       "      <td>2.2</td>\n",
       "      <td>0.0</td>\n",
       "    </tr>\n",
       "    <tr>\n",
       "      <th>1074634</th>\n",
       "      <td>31/12/2008</td>\n",
       "      <td>23:58:00</td>\n",
       "      <td>0.480</td>\n",
       "      <td>0.064</td>\n",
       "      <td>246.52</td>\n",
       "      <td>2.2</td>\n",
       "      <td>0.0</td>\n",
       "    </tr>\n",
       "    <tr>\n",
       "      <th>1074635</th>\n",
       "      <td>31/12/2008</td>\n",
       "      <td>23:59:00</td>\n",
       "      <td>0.482</td>\n",
       "      <td>0.062</td>\n",
       "      <td>246.97</td>\n",
       "      <td>2.2</td>\n",
       "      <td>0.0</td>\n",
       "    </tr>\n",
       "  </tbody>\n",
       "</table>\n",
       "<p>527040 rows × 7 columns</p>\n",
       "</div>"
      ],
      "text/plain": [
       "               date      time  global_active_power  global_reactive_power  \\\n",
       "547596     1/1/2008  00:00:00                1.620                  0.070   \n",
       "547597     1/1/2008  00:01:00                1.626                  0.072   \n",
       "547598     1/1/2008  00:02:00                1.622                  0.072   \n",
       "547599     1/1/2008  00:03:00                1.612                  0.070   \n",
       "547600     1/1/2008  00:04:00                1.612                  0.070   \n",
       "...             ...       ...                  ...                    ...   \n",
       "1074631  31/12/2008  23:55:00                0.484                  0.064   \n",
       "1074632  31/12/2008  23:56:00                0.482                  0.064   \n",
       "1074633  31/12/2008  23:57:00                0.482                  0.064   \n",
       "1074634  31/12/2008  23:58:00                0.480                  0.064   \n",
       "1074635  31/12/2008  23:59:00                0.482                  0.062   \n",
       "\n",
       "         voltage  global_intensity  global_consumption  \n",
       "547596    241.25               6.6                18.0  \n",
       "547597    241.74               6.6                18.0  \n",
       "547598    241.52               6.6                18.0  \n",
       "547599    240.82               6.6                18.0  \n",
       "547600    240.80               6.6                18.0  \n",
       "...          ...               ...                 ...  \n",
       "1074631   247.69               2.2                 0.0  \n",
       "1074632   247.35               2.2                 0.0  \n",
       "1074633   246.99               2.2                 0.0  \n",
       "1074634   246.52               2.2                 0.0  \n",
       "1074635   246.97               2.2                 0.0  \n",
       "\n",
       "[527040 rows x 7 columns]"
      ]
     },
     "execution_count": 39,
     "metadata": {},
     "output_type": "execute_result"
    }
   ],
   "source": [
    "X"
   ]
  },
  {
   "cell_type": "code",
   "execution_count": 40,
   "metadata": {},
   "outputs": [
    {
     "name": "stdout",
     "output_type": "stream",
     "text": [
      "../data/input_datasets/dataset_2008-01-01_2008-12-31.csv\n"
     ]
    }
   ],
   "source": [
    "dataset_start = datetime.datetime.strptime(X.date.iloc[0], '%d/%m/%Y').strftime('%Y-%m-%d')\n",
    "dataset_end = datetime.datetime.strptime(X.date.iloc[-1], '%d/%m/%Y').strftime('%Y-%m-%d')\n",
    "\n",
    "file_name = f\"dataset_{dataset_start}_{dataset_end}.csv\"\n",
    "file_path = os.path.join(LOCAL_DATASET_PATH, file_name)\n",
    "print(file_path)\n",
    "X.to_csv(file_path, sep=',', encoding='utf-8', index=False)"
   ]
  }
 ],
 "metadata": {
  "kernelspec": {
   "display_name": "Python 3.8.12 64-bit ('shims')",
   "language": "python",
   "name": "python3"
  },
  "language_info": {
   "codemirror_mode": {
    "name": "ipython",
    "version": 3
   },
   "file_extension": ".py",
   "mimetype": "text/x-python",
   "name": "python",
   "nbconvert_exporter": "python",
   "pygments_lexer": "ipython3",
   "version": "3.8.12"
  },
  "orig_nbformat": 4,
  "vscode": {
   "interpreter": {
    "hash": "e588d92b224e11b16adbbadd39936dea13a6488171770263a646fc57f44563d8"
   }
  }
 },
 "nbformat": 4,
 "nbformat_minor": 2
}
