{
 "cells": [
  {
   "cell_type": "code",
   "execution_count": 28,
   "metadata": {},
   "outputs": [],
   "source": [
    "import pandas as pd\n",
    "import os\n",
    "import datetime\n",
    "\n",
    "LOCAL_DATASET_PATH = \"../data/input_datasets\""
   ]
  },
  {
   "cell_type": "code",
   "execution_count": 30,
   "metadata": {},
   "outputs": [
    {
     "name": "stdout",
     "output_type": "stream",
     "text": [
      "<class 'pandas.core.frame.DataFrame'>\n",
      "Int64Index: 475023 entries, 1600236 to 2075258\n",
      "Data columns (total 9 columns):\n",
      " #   Column                 Non-Null Count   Dtype  \n",
      "---  ------                 --------------   -----  \n",
      " 0   date                   475023 non-null  object \n",
      " 1   time                   475023 non-null  object \n",
      " 2   global_active_power    457394 non-null  float64\n",
      " 3   global_reactive_power  457394 non-null  float64\n",
      " 4   voltage                457394 non-null  float64\n",
      " 5   global_intensity       457394 non-null  float64\n",
      " 6   sub_metering_1         457394 non-null  float64\n",
      " 7   sub_metering_2         457394 non-null  float64\n",
      " 8   sub_metering_3         457394 non-null  float64\n",
      "dtypes: float64(7), object(2)\n",
      "memory usage: 36.2+ MB\n"
     ]
    }
   ],
   "source": [
    "# Take just a subset of the data for now (year==2008)\n",
    "data = pd.read_csv('../data/household_power_consumption.txt', sep=';', na_values='?')\n",
    "data = data[data.Date.str.endswith('2008')]\n",
    "data.columns = data.columns.str.lower()\n",
    "data.info()"
   ]
  },
  {
   "cell_type": "code",
   "execution_count": 31,
   "metadata": {},
   "outputs": [],
   "source": [
    "# Create global_consumption\n",
    "labels = ['sub_metering_1', 'sub_metering_2', 'sub_metering_3']\n",
    "data['global_consumption'] = data[labels].sum(axis=1)"
   ]
  },
  {
   "cell_type": "code",
   "execution_count": 32,
   "metadata": {},
   "outputs": [
    {
     "data": {
      "text/plain": [
       "((475023, 7), (475023, 3))"
      ]
     },
     "execution_count": 32,
     "metadata": {},
     "output_type": "execute_result"
    }
   ],
   "source": [
    "# Create X, y and save datetime in a separeted column\n",
    "X = data.drop(columns=labels)\n",
    "y = data[labels]\n",
    "X.shape, y.shape"
   ]
  },
  {
   "cell_type": "code",
   "execution_count": 33,
   "metadata": {},
   "outputs": [
    {
     "data": {
      "text/html": [
       "<div>\n",
       "<style scoped>\n",
       "    .dataframe tbody tr th:only-of-type {\n",
       "        vertical-align: middle;\n",
       "    }\n",
       "\n",
       "    .dataframe tbody tr th {\n",
       "        vertical-align: top;\n",
       "    }\n",
       "\n",
       "    .dataframe thead th {\n",
       "        text-align: right;\n",
       "    }\n",
       "</style>\n",
       "<table border=\"1\" class=\"dataframe\">\n",
       "  <thead>\n",
       "    <tr style=\"text-align: right;\">\n",
       "      <th></th>\n",
       "      <th>date</th>\n",
       "      <th>time</th>\n",
       "      <th>global_active_power</th>\n",
       "      <th>global_reactive_power</th>\n",
       "      <th>voltage</th>\n",
       "      <th>global_intensity</th>\n",
       "      <th>global_consumption</th>\n",
       "    </tr>\n",
       "  </thead>\n",
       "  <tbody>\n",
       "    <tr>\n",
       "      <th>1600236</th>\n",
       "      <td>1/1/2010</td>\n",
       "      <td>00:00:00</td>\n",
       "      <td>1.790</td>\n",
       "      <td>0.236</td>\n",
       "      <td>240.65</td>\n",
       "      <td>7.4</td>\n",
       "      <td>18.0</td>\n",
       "    </tr>\n",
       "    <tr>\n",
       "      <th>1600237</th>\n",
       "      <td>1/1/2010</td>\n",
       "      <td>00:01:00</td>\n",
       "      <td>1.780</td>\n",
       "      <td>0.234</td>\n",
       "      <td>240.07</td>\n",
       "      <td>7.4</td>\n",
       "      <td>18.0</td>\n",
       "    </tr>\n",
       "    <tr>\n",
       "      <th>1600238</th>\n",
       "      <td>1/1/2010</td>\n",
       "      <td>00:02:00</td>\n",
       "      <td>1.780</td>\n",
       "      <td>0.234</td>\n",
       "      <td>240.15</td>\n",
       "      <td>7.4</td>\n",
       "      <td>19.0</td>\n",
       "    </tr>\n",
       "    <tr>\n",
       "      <th>1600239</th>\n",
       "      <td>1/1/2010</td>\n",
       "      <td>00:03:00</td>\n",
       "      <td>1.746</td>\n",
       "      <td>0.186</td>\n",
       "      <td>240.26</td>\n",
       "      <td>7.2</td>\n",
       "      <td>18.0</td>\n",
       "    </tr>\n",
       "    <tr>\n",
       "      <th>1600240</th>\n",
       "      <td>1/1/2010</td>\n",
       "      <td>00:04:00</td>\n",
       "      <td>1.686</td>\n",
       "      <td>0.102</td>\n",
       "      <td>240.12</td>\n",
       "      <td>7.0</td>\n",
       "      <td>18.0</td>\n",
       "    </tr>\n",
       "    <tr>\n",
       "      <th>...</th>\n",
       "      <td>...</td>\n",
       "      <td>...</td>\n",
       "      <td>...</td>\n",
       "      <td>...</td>\n",
       "      <td>...</td>\n",
       "      <td>...</td>\n",
       "      <td>...</td>\n",
       "    </tr>\n",
       "    <tr>\n",
       "      <th>2075254</th>\n",
       "      <td>26/11/2010</td>\n",
       "      <td>20:58:00</td>\n",
       "      <td>0.946</td>\n",
       "      <td>0.000</td>\n",
       "      <td>240.43</td>\n",
       "      <td>4.0</td>\n",
       "      <td>0.0</td>\n",
       "    </tr>\n",
       "    <tr>\n",
       "      <th>2075255</th>\n",
       "      <td>26/11/2010</td>\n",
       "      <td>20:59:00</td>\n",
       "      <td>0.944</td>\n",
       "      <td>0.000</td>\n",
       "      <td>240.00</td>\n",
       "      <td>4.0</td>\n",
       "      <td>0.0</td>\n",
       "    </tr>\n",
       "    <tr>\n",
       "      <th>2075256</th>\n",
       "      <td>26/11/2010</td>\n",
       "      <td>21:00:00</td>\n",
       "      <td>0.938</td>\n",
       "      <td>0.000</td>\n",
       "      <td>239.82</td>\n",
       "      <td>3.8</td>\n",
       "      <td>0.0</td>\n",
       "    </tr>\n",
       "    <tr>\n",
       "      <th>2075257</th>\n",
       "      <td>26/11/2010</td>\n",
       "      <td>21:01:00</td>\n",
       "      <td>0.934</td>\n",
       "      <td>0.000</td>\n",
       "      <td>239.70</td>\n",
       "      <td>3.8</td>\n",
       "      <td>0.0</td>\n",
       "    </tr>\n",
       "    <tr>\n",
       "      <th>2075258</th>\n",
       "      <td>26/11/2010</td>\n",
       "      <td>21:02:00</td>\n",
       "      <td>0.932</td>\n",
       "      <td>0.000</td>\n",
       "      <td>239.55</td>\n",
       "      <td>3.8</td>\n",
       "      <td>0.0</td>\n",
       "    </tr>\n",
       "  </tbody>\n",
       "</table>\n",
       "<p>475023 rows × 7 columns</p>\n",
       "</div>"
      ],
      "text/plain": [
       "               date      time  global_active_power  global_reactive_power  \\\n",
       "1600236    1/1/2010  00:00:00                1.790                  0.236   \n",
       "1600237    1/1/2010  00:01:00                1.780                  0.234   \n",
       "1600238    1/1/2010  00:02:00                1.780                  0.234   \n",
       "1600239    1/1/2010  00:03:00                1.746                  0.186   \n",
       "1600240    1/1/2010  00:04:00                1.686                  0.102   \n",
       "...             ...       ...                  ...                    ...   \n",
       "2075254  26/11/2010  20:58:00                0.946                  0.000   \n",
       "2075255  26/11/2010  20:59:00                0.944                  0.000   \n",
       "2075256  26/11/2010  21:00:00                0.938                  0.000   \n",
       "2075257  26/11/2010  21:01:00                0.934                  0.000   \n",
       "2075258  26/11/2010  21:02:00                0.932                  0.000   \n",
       "\n",
       "         voltage  global_intensity  global_consumption  \n",
       "1600236   240.65               7.4                18.0  \n",
       "1600237   240.07               7.4                18.0  \n",
       "1600238   240.15               7.4                19.0  \n",
       "1600239   240.26               7.2                18.0  \n",
       "1600240   240.12               7.0                18.0  \n",
       "...          ...               ...                 ...  \n",
       "2075254   240.43               4.0                 0.0  \n",
       "2075255   240.00               4.0                 0.0  \n",
       "2075256   239.82               3.8                 0.0  \n",
       "2075257   239.70               3.8                 0.0  \n",
       "2075258   239.55               3.8                 0.0  \n",
       "\n",
       "[475023 rows x 7 columns]"
      ]
     },
     "execution_count": 33,
     "metadata": {},
     "output_type": "execute_result"
    }
   ],
   "source": [
    "X"
   ]
  },
  {
   "cell_type": "code",
   "execution_count": 34,
   "metadata": {},
   "outputs": [
    {
     "name": "stdout",
     "output_type": "stream",
     "text": [
      "../data/input_datasets/dataset_2010-01-01_2010-11-26.csv\n"
     ]
    }
   ],
   "source": [
    "dataset_start = datetime.datetime.strptime(data.date.iloc[0], '%d/%m/%Y').strftime('%Y-%m-%d')\n",
    "dataset_end = datetime.datetime.strptime(data.date.iloc[-1], '%d/%m/%Y').strftime('%Y-%m-%d')\n",
    "\n",
    "file_name = f\"dataset_{dataset_start}_{dataset_end}.csv\"\n",
    "file_path = os.path.join(LOCAL_DATASET_PATH, file_name)\n",
    "print(file_path)\n",
    "data.to_csv(file_path, sep=',', encoding='utf-8')"
   ]
  }
 ],
 "metadata": {
  "kernelspec": {
   "display_name": "Python 3.8.12 64-bit ('shims')",
   "language": "python",
   "name": "python3"
  },
  "language_info": {
   "codemirror_mode": {
    "name": "ipython",
    "version": 3
   },
   "file_extension": ".py",
   "mimetype": "text/x-python",
   "name": "python",
   "nbconvert_exporter": "python",
   "pygments_lexer": "ipython3",
   "version": "3.8.12"
  },
  "orig_nbformat": 4,
  "vscode": {
   "interpreter": {
    "hash": "e588d92b224e11b16adbbadd39936dea13a6488171770263a646fc57f44563d8"
   }
  }
 },
 "nbformat": 4,
 "nbformat_minor": 2
}
