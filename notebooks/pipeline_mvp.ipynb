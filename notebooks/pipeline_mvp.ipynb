{
 "cells": [
  {
   "cell_type": "markdown",
   "metadata": {},
   "source": [
    "# 0. Imports"
   ]
  },
  {
   "cell_type": "code",
   "execution_count": 44,
   "metadata": {},
   "outputs": [],
   "source": [
    "# imports\n",
    "import pandas as pd\n",
    "import numpy as np\n",
    "import datetime as dt\n",
    "import time\n",
    "import os\n",
    "import pickle\n",
    "\n",
    "from colorama import Fore, Style\n",
    "from sklearn.pipeline import Pipeline\n",
    "from joblib import dump, load\n",
    "\n",
    "from sklearn.ensemble import RandomForestRegressor\n",
    "from sklearn.preprocessing import FunctionTransformer, StandardScaler\n",
    "from sklearn.compose import ColumnTransformer\n",
    "from sklearn.model_selection import train_test_split\n",
    "\n",
    "# Importing those functions from the API package so they can be used\n",
    "# by the loaded pipeline in the API package later\n",
    "\n",
    "from decipherer.ml_logic.encoders import ffill_nan, add_datetime_features"
   ]
  },
  {
   "cell_type": "code",
   "execution_count": 45,
   "metadata": {},
   "outputs": [
    {
     "name": "stdout",
     "output_type": "stream",
     "text": [
      "\u001b[01;34m../training_outputs\u001b[0m\n",
      "├── \u001b[01;34mmetrics\u001b[0m\n",
      "│   ├── \u001b[00m20221124-144607.pickle\u001b[0m\n",
      "│   └── \u001b[00m20221125-135344.pickle\u001b[0m\n",
      "├── \u001b[01;34mmodels\u001b[0m\n",
      "│   ├── \u001b[00m20221124-144607.joblib\u001b[0m\n",
      "│   └── \u001b[00m20221125-135344.joblib\u001b[0m\n",
      "└── \u001b[01;34mparams\u001b[0m\n",
      "    ├── \u001b[00m20221124-144607.pickle\u001b[0m\n",
      "    └── \u001b[00m20221125-135344.pickle\u001b[0m\n",
      "\n",
      "3 directories, 6 files\n"
     ]
    }
   ],
   "source": [
    "# environment variables\n",
    "LOCAL_REGISTRY_PATH = \"../training_outputs\"\n",
    "\n",
    "# prerequisite: having a \"training_outputs\" folder at the root of the project\n",
    "! tree ../training_outputs"
   ]
  },
  {
   "cell_type": "markdown",
   "metadata": {},
   "source": [
    "# 1. Build pipeline"
   ]
  },
  {
   "cell_type": "code",
   "execution_count": 46,
   "metadata": {},
   "outputs": [],
   "source": [
    "# Get rid of nan values using ffil\n",
    "# def ffill_nan(X):\n",
    "#     return X.fillna(method='ffill', axis = 0)"
   ]
  },
  {
   "cell_type": "code",
   "execution_count": 47,
   "metadata": {},
   "outputs": [],
   "source": [
    "# # Create new datetime features\n",
    "# def add_datetime_features(X):\n",
    "    \n",
    "#     # Copy X to avoid pandas warning\n",
    "#     X_rep = X.copy()\n",
    "    \n",
    "#     # Handle datetime format\n",
    "#     datetime = pd.to_datetime(X_rep['date'] + ' ' + X_rep['time'])\n",
    "    \n",
    "#     # Create new features using month, weekday, hour and minute\n",
    "#     X_rep['month'] = datetime.dt.month\n",
    "#     X_rep['weekday'] = datetime.dt.weekday\n",
    "#     X_rep['hour'] = datetime.dt.hour\n",
    "#     X_rep['minute'] = datetime.dt.minute\n",
    "    \n",
    "#     # Consider periodic effects\n",
    "#     X_rep['month_sin'] = np.sin(2*np.pi*X_rep['month']/12)\n",
    "#     X_rep['month_cos'] = np.cos(2*np.pi*X_rep['month']/12)\n",
    "    \n",
    "#     # Get rid of Datetime\n",
    "#     return X_rep.drop(columns=['date', 'time'])"
   ]
  },
  {
   "cell_type": "code",
   "execution_count": 48,
   "metadata": {},
   "outputs": [
    {
     "data": {
      "text/html": [
       "<style>#sk-container-id-4 {color: black;background-color: white;}#sk-container-id-4 pre{padding: 0;}#sk-container-id-4 div.sk-toggleable {background-color: white;}#sk-container-id-4 label.sk-toggleable__label {cursor: pointer;display: block;width: 100%;margin-bottom: 0;padding: 0.3em;box-sizing: border-box;text-align: center;}#sk-container-id-4 label.sk-toggleable__label-arrow:before {content: \"▸\";float: left;margin-right: 0.25em;color: #696969;}#sk-container-id-4 label.sk-toggleable__label-arrow:hover:before {color: black;}#sk-container-id-4 div.sk-estimator:hover label.sk-toggleable__label-arrow:before {color: black;}#sk-container-id-4 div.sk-toggleable__content {max-height: 0;max-width: 0;overflow: hidden;text-align: left;background-color: #f0f8ff;}#sk-container-id-4 div.sk-toggleable__content pre {margin: 0.2em;color: black;border-radius: 0.25em;background-color: #f0f8ff;}#sk-container-id-4 input.sk-toggleable__control:checked~div.sk-toggleable__content {max-height: 200px;max-width: 100%;overflow: auto;}#sk-container-id-4 input.sk-toggleable__control:checked~label.sk-toggleable__label-arrow:before {content: \"▾\";}#sk-container-id-4 div.sk-estimator input.sk-toggleable__control:checked~label.sk-toggleable__label {background-color: #d4ebff;}#sk-container-id-4 div.sk-label input.sk-toggleable__control:checked~label.sk-toggleable__label {background-color: #d4ebff;}#sk-container-id-4 input.sk-hidden--visually {border: 0;clip: rect(1px 1px 1px 1px);clip: rect(1px, 1px, 1px, 1px);height: 1px;margin: -1px;overflow: hidden;padding: 0;position: absolute;width: 1px;}#sk-container-id-4 div.sk-estimator {font-family: monospace;background-color: #f0f8ff;border: 1px dotted black;border-radius: 0.25em;box-sizing: border-box;margin-bottom: 0.5em;}#sk-container-id-4 div.sk-estimator:hover {background-color: #d4ebff;}#sk-container-id-4 div.sk-parallel-item::after {content: \"\";width: 100%;border-bottom: 1px solid gray;flex-grow: 1;}#sk-container-id-4 div.sk-label:hover label.sk-toggleable__label {background-color: #d4ebff;}#sk-container-id-4 div.sk-serial::before {content: \"\";position: absolute;border-left: 1px solid gray;box-sizing: border-box;top: 0;bottom: 0;left: 50%;z-index: 0;}#sk-container-id-4 div.sk-serial {display: flex;flex-direction: column;align-items: center;background-color: white;padding-right: 0.2em;padding-left: 0.2em;position: relative;}#sk-container-id-4 div.sk-item {position: relative;z-index: 1;}#sk-container-id-4 div.sk-parallel {display: flex;align-items: stretch;justify-content: center;background-color: white;position: relative;}#sk-container-id-4 div.sk-item::before, #sk-container-id-4 div.sk-parallel-item::before {content: \"\";position: absolute;border-left: 1px solid gray;box-sizing: border-box;top: 0;bottom: 0;left: 50%;z-index: -1;}#sk-container-id-4 div.sk-parallel-item {display: flex;flex-direction: column;z-index: 1;position: relative;background-color: white;}#sk-container-id-4 div.sk-parallel-item:first-child::after {align-self: flex-end;width: 50%;}#sk-container-id-4 div.sk-parallel-item:last-child::after {align-self: flex-start;width: 50%;}#sk-container-id-4 div.sk-parallel-item:only-child::after {width: 0;}#sk-container-id-4 div.sk-dashed-wrapped {border: 1px dashed gray;margin: 0 0.4em 0.5em 0.4em;box-sizing: border-box;padding-bottom: 0.4em;background-color: white;}#sk-container-id-4 div.sk-label label {font-family: monospace;font-weight: bold;display: inline-block;line-height: 1.2em;}#sk-container-id-4 div.sk-label-container {text-align: center;}#sk-container-id-4 div.sk-container {/* jupyter's `normalize.less` sets `[hidden] { display: none; }` but bootstrap.min.css set `[hidden] { display: none !important; }` so we also need the `!important` here to be able to override the default hidden behavior on the sphinx rendered scikit-learn.org. See: https://github.com/scikit-learn/scikit-learn/issues/21755 */display: inline-block !important;position: relative;}#sk-container-id-4 div.sk-text-repr-fallback {display: none;}</style><div id=\"sk-container-id-4\" class=\"sk-top-container\"><div class=\"sk-text-repr-fallback\"><pre>Pipeline(steps=[(&#x27;preparator&#x27;,\n",
       "                 ColumnTransformer(transformers=[(&#x27;imputer&#x27;,\n",
       "                                                  FunctionTransformer(func=&lt;function ffill_nan at 0x1425471f0&gt;),\n",
       "                                                  [&#x27;global_active_power&#x27;,\n",
       "                                                   &#x27;global_reactive_power&#x27;,\n",
       "                                                   &#x27;voltage&#x27;,\n",
       "                                                   &#x27;global_intensity&#x27;,\n",
       "                                                   &#x27;global_consumption&#x27;]),\n",
       "                                                 (&#x27;datetime_features_adder&#x27;,\n",
       "                                                  FunctionTransformer(func=&lt;function add_datetime_features at 0x142547550&gt;),\n",
       "                                                  [&#x27;date&#x27;, &#x27;time&#x27;])])),\n",
       "                (&#x27;std_scaler&#x27;, StandardScaler()),\n",
       "                (&#x27;estimator&#x27;, RandomForestRegressor(n_estimators=10))])</pre><b>In a Jupyter environment, please rerun this cell to show the HTML representation or trust the notebook. <br />On GitHub, the HTML representation is unable to render, please try loading this page with nbviewer.org.</b></div><div class=\"sk-container\" hidden><div class=\"sk-item sk-dashed-wrapped\"><div class=\"sk-label-container\"><div class=\"sk-label sk-toggleable\"><input class=\"sk-toggleable__control sk-hidden--visually\" id=\"sk-estimator-id-25\" type=\"checkbox\" ><label for=\"sk-estimator-id-25\" class=\"sk-toggleable__label sk-toggleable__label-arrow\">Pipeline</label><div class=\"sk-toggleable__content\"><pre>Pipeline(steps=[(&#x27;preparator&#x27;,\n",
       "                 ColumnTransformer(transformers=[(&#x27;imputer&#x27;,\n",
       "                                                  FunctionTransformer(func=&lt;function ffill_nan at 0x1425471f0&gt;),\n",
       "                                                  [&#x27;global_active_power&#x27;,\n",
       "                                                   &#x27;global_reactive_power&#x27;,\n",
       "                                                   &#x27;voltage&#x27;,\n",
       "                                                   &#x27;global_intensity&#x27;,\n",
       "                                                   &#x27;global_consumption&#x27;]),\n",
       "                                                 (&#x27;datetime_features_adder&#x27;,\n",
       "                                                  FunctionTransformer(func=&lt;function add_datetime_features at 0x142547550&gt;),\n",
       "                                                  [&#x27;date&#x27;, &#x27;time&#x27;])])),\n",
       "                (&#x27;std_scaler&#x27;, StandardScaler()),\n",
       "                (&#x27;estimator&#x27;, RandomForestRegressor(n_estimators=10))])</pre></div></div></div><div class=\"sk-serial\"><div class=\"sk-item sk-dashed-wrapped\"><div class=\"sk-label-container\"><div class=\"sk-label sk-toggleable\"><input class=\"sk-toggleable__control sk-hidden--visually\" id=\"sk-estimator-id-26\" type=\"checkbox\" ><label for=\"sk-estimator-id-26\" class=\"sk-toggleable__label sk-toggleable__label-arrow\">preparator: ColumnTransformer</label><div class=\"sk-toggleable__content\"><pre>ColumnTransformer(transformers=[(&#x27;imputer&#x27;,\n",
       "                                 FunctionTransformer(func=&lt;function ffill_nan at 0x1425471f0&gt;),\n",
       "                                 [&#x27;global_active_power&#x27;,\n",
       "                                  &#x27;global_reactive_power&#x27;, &#x27;voltage&#x27;,\n",
       "                                  &#x27;global_intensity&#x27;, &#x27;global_consumption&#x27;]),\n",
       "                                (&#x27;datetime_features_adder&#x27;,\n",
       "                                 FunctionTransformer(func=&lt;function add_datetime_features at 0x142547550&gt;),\n",
       "                                 [&#x27;date&#x27;, &#x27;time&#x27;])])</pre></div></div></div><div class=\"sk-parallel\"><div class=\"sk-parallel-item\"><div class=\"sk-item\"><div class=\"sk-label-container\"><div class=\"sk-label sk-toggleable\"><input class=\"sk-toggleable__control sk-hidden--visually\" id=\"sk-estimator-id-27\" type=\"checkbox\" ><label for=\"sk-estimator-id-27\" class=\"sk-toggleable__label sk-toggleable__label-arrow\">imputer</label><div class=\"sk-toggleable__content\"><pre>[&#x27;global_active_power&#x27;, &#x27;global_reactive_power&#x27;, &#x27;voltage&#x27;, &#x27;global_intensity&#x27;, &#x27;global_consumption&#x27;]</pre></div></div></div><div class=\"sk-serial\"><div class=\"sk-item\"><div class=\"sk-estimator sk-toggleable\"><input class=\"sk-toggleable__control sk-hidden--visually\" id=\"sk-estimator-id-28\" type=\"checkbox\" ><label for=\"sk-estimator-id-28\" class=\"sk-toggleable__label sk-toggleable__label-arrow\">FunctionTransformer</label><div class=\"sk-toggleable__content\"><pre>FunctionTransformer(func=&lt;function ffill_nan at 0x1425471f0&gt;)</pre></div></div></div></div></div></div><div class=\"sk-parallel-item\"><div class=\"sk-item\"><div class=\"sk-label-container\"><div class=\"sk-label sk-toggleable\"><input class=\"sk-toggleable__control sk-hidden--visually\" id=\"sk-estimator-id-29\" type=\"checkbox\" ><label for=\"sk-estimator-id-29\" class=\"sk-toggleable__label sk-toggleable__label-arrow\">datetime_features_adder</label><div class=\"sk-toggleable__content\"><pre>[&#x27;date&#x27;, &#x27;time&#x27;]</pre></div></div></div><div class=\"sk-serial\"><div class=\"sk-item\"><div class=\"sk-estimator sk-toggleable\"><input class=\"sk-toggleable__control sk-hidden--visually\" id=\"sk-estimator-id-30\" type=\"checkbox\" ><label for=\"sk-estimator-id-30\" class=\"sk-toggleable__label sk-toggleable__label-arrow\">FunctionTransformer</label><div class=\"sk-toggleable__content\"><pre>FunctionTransformer(func=&lt;function add_datetime_features at 0x142547550&gt;)</pre></div></div></div></div></div></div></div></div><div class=\"sk-item\"><div class=\"sk-estimator sk-toggleable\"><input class=\"sk-toggleable__control sk-hidden--visually\" id=\"sk-estimator-id-31\" type=\"checkbox\" ><label for=\"sk-estimator-id-31\" class=\"sk-toggleable__label sk-toggleable__label-arrow\">StandardScaler</label><div class=\"sk-toggleable__content\"><pre>StandardScaler()</pre></div></div></div><div class=\"sk-item\"><div class=\"sk-estimator sk-toggleable\"><input class=\"sk-toggleable__control sk-hidden--visually\" id=\"sk-estimator-id-32\" type=\"checkbox\" ><label for=\"sk-estimator-id-32\" class=\"sk-toggleable__label sk-toggleable__label-arrow\">RandomForestRegressor</label><div class=\"sk-toggleable__content\"><pre>RandomForestRegressor(n_estimators=10)</pre></div></div></div></div></div></div></div>"
      ],
      "text/plain": [
       "Pipeline(steps=[('preparator',\n",
       "                 ColumnTransformer(transformers=[('imputer',\n",
       "                                                  FunctionTransformer(func=<function ffill_nan at 0x1425471f0>),\n",
       "                                                  ['global_active_power',\n",
       "                                                   'global_reactive_power',\n",
       "                                                   'voltage',\n",
       "                                                   'global_intensity',\n",
       "                                                   'global_consumption']),\n",
       "                                                 ('datetime_features_adder',\n",
       "                                                  FunctionTransformer(func=<function add_datetime_features at 0x142547550>),\n",
       "                                                  ['date', 'time'])])),\n",
       "                ('std_scaler', StandardScaler()),\n",
       "                ('estimator', RandomForestRegressor(n_estimators=10))])"
      ]
     },
     "execution_count": 48,
     "metadata": {},
     "output_type": "execute_result"
    }
   ],
   "source": [
    "# Create a pipeline to preprocess the data\n",
    "\n",
    "n_estimators = 10\n",
    "\n",
    "features = ['global_active_power', 'global_reactive_power', 'voltage', 'global_intensity', 'global_consumption']\n",
    "datetimes = ['date', 'time']\n",
    "\n",
    "preparator = ColumnTransformer([ \n",
    "    ('imputer', FunctionTransformer(ffill_nan), features),\n",
    "    ('datetime_features_adder', FunctionTransformer(add_datetime_features), datetimes)\n",
    "])\n",
    "\n",
    "pipeline = Pipeline([\n",
    "    ('preparator', preparator),\n",
    "    ('std_scaler', StandardScaler()),\n",
    "    ('estimator', RandomForestRegressor(n_estimators=n_estimators))\n",
    "])\n",
    "\n",
    "pipeline"
   ]
  },
  {
   "cell_type": "markdown",
   "metadata": {},
   "source": [
    "# 3. Prepare the data to train"
   ]
  },
  {
   "cell_type": "code",
   "execution_count": 49,
   "metadata": {},
   "outputs": [
    {
     "name": "stdout",
     "output_type": "stream",
     "text": [
      "<class 'pandas.core.frame.DataFrame'>\n",
      "Int64Index: 527040 entries, 547596 to 1074635\n",
      "Data columns (total 9 columns):\n",
      " #   Column                 Non-Null Count   Dtype  \n",
      "---  ------                 --------------   -----  \n",
      " 0   date                   527040 non-null  object \n",
      " 1   time                   527040 non-null  object \n",
      " 2   global_active_power    526905 non-null  float64\n",
      " 3   global_reactive_power  526905 non-null  float64\n",
      " 4   voltage                526905 non-null  float64\n",
      " 5   global_intensity       526905 non-null  float64\n",
      " 6   sub_metering_1         526905 non-null  float64\n",
      " 7   sub_metering_2         526905 non-null  float64\n",
      " 8   sub_metering_3         526905 non-null  float64\n",
      "dtypes: float64(7), object(2)\n",
      "memory usage: 40.2+ MB\n"
     ]
    }
   ],
   "source": [
    "# Take just a subset of the data for now (year==2008)\n",
    "data = pd.read_csv('../data/household_power_consumption.txt', sep=';', na_values='?')\n",
    "data = data[data.Date.str.endswith('2008')]\n",
    "data.columns = data.columns.str.lower()\n",
    "data.info()"
   ]
  },
  {
   "cell_type": "code",
   "execution_count": 50,
   "metadata": {},
   "outputs": [],
   "source": [
    "labels = ['sub_metering_1', 'sub_metering_2', 'sub_metering_3']\n",
    "data['global_consumption'] = data[labels].sum(axis=1)"
   ]
  },
  {
   "cell_type": "code",
   "execution_count": 51,
   "metadata": {},
   "outputs": [
    {
     "data": {
      "text/plain": [
       "((527040, 7), (527040, 3))"
      ]
     },
     "execution_count": 51,
     "metadata": {},
     "output_type": "execute_result"
    }
   ],
   "source": [
    "# Create X, y and save datetime in a separeted column\n",
    "X = data.drop(columns=labels)\n",
    "y = data[labels]\n",
    "X.shape, y.shape"
   ]
  },
  {
   "cell_type": "code",
   "execution_count": 52,
   "metadata": {},
   "outputs": [
    {
     "data": {
      "text/plain": [
       "sub_metering_1    135\n",
       "sub_metering_2    135\n",
       "sub_metering_3    135\n",
       "dtype: int64"
      ]
     },
     "execution_count": 52,
     "metadata": {},
     "output_type": "execute_result"
    }
   ],
   "source": [
    "y.isna().sum()"
   ]
  },
  {
   "cell_type": "code",
   "execution_count": 53,
   "metadata": {},
   "outputs": [],
   "source": [
    "# Remove na values from y\n",
    "y = y.fillna(method='ffill', axis=0)"
   ]
  },
  {
   "cell_type": "code",
   "execution_count": 54,
   "metadata": {},
   "outputs": [
    {
     "data": {
      "text/html": [
       "<div>\n",
       "<style scoped>\n",
       "    .dataframe tbody tr th:only-of-type {\n",
       "        vertical-align: middle;\n",
       "    }\n",
       "\n",
       "    .dataframe tbody tr th {\n",
       "        vertical-align: top;\n",
       "    }\n",
       "\n",
       "    .dataframe thead th {\n",
       "        text-align: right;\n",
       "    }\n",
       "</style>\n",
       "<table border=\"1\" class=\"dataframe\">\n",
       "  <thead>\n",
       "    <tr style=\"text-align: right;\">\n",
       "      <th></th>\n",
       "      <th>date</th>\n",
       "      <th>time</th>\n",
       "      <th>global_active_power</th>\n",
       "      <th>global_reactive_power</th>\n",
       "      <th>voltage</th>\n",
       "      <th>global_intensity</th>\n",
       "      <th>global_consumption</th>\n",
       "    </tr>\n",
       "  </thead>\n",
       "  <tbody>\n",
       "    <tr>\n",
       "      <th>547596</th>\n",
       "      <td>1/1/2008</td>\n",
       "      <td>00:00:00</td>\n",
       "      <td>1.620</td>\n",
       "      <td>0.070</td>\n",
       "      <td>241.25</td>\n",
       "      <td>6.6</td>\n",
       "      <td>18.0</td>\n",
       "    </tr>\n",
       "    <tr>\n",
       "      <th>547597</th>\n",
       "      <td>1/1/2008</td>\n",
       "      <td>00:01:00</td>\n",
       "      <td>1.626</td>\n",
       "      <td>0.072</td>\n",
       "      <td>241.74</td>\n",
       "      <td>6.6</td>\n",
       "      <td>18.0</td>\n",
       "    </tr>\n",
       "    <tr>\n",
       "      <th>547598</th>\n",
       "      <td>1/1/2008</td>\n",
       "      <td>00:02:00</td>\n",
       "      <td>1.622</td>\n",
       "      <td>0.072</td>\n",
       "      <td>241.52</td>\n",
       "      <td>6.6</td>\n",
       "      <td>18.0</td>\n",
       "    </tr>\n",
       "    <tr>\n",
       "      <th>547599</th>\n",
       "      <td>1/1/2008</td>\n",
       "      <td>00:03:00</td>\n",
       "      <td>1.612</td>\n",
       "      <td>0.070</td>\n",
       "      <td>240.82</td>\n",
       "      <td>6.6</td>\n",
       "      <td>18.0</td>\n",
       "    </tr>\n",
       "    <tr>\n",
       "      <th>547600</th>\n",
       "      <td>1/1/2008</td>\n",
       "      <td>00:04:00</td>\n",
       "      <td>1.612</td>\n",
       "      <td>0.070</td>\n",
       "      <td>240.80</td>\n",
       "      <td>6.6</td>\n",
       "      <td>18.0</td>\n",
       "    </tr>\n",
       "  </tbody>\n",
       "</table>\n",
       "</div>"
      ],
      "text/plain": [
       "            date      time  global_active_power  global_reactive_power  \\\n",
       "547596  1/1/2008  00:00:00                1.620                  0.070   \n",
       "547597  1/1/2008  00:01:00                1.626                  0.072   \n",
       "547598  1/1/2008  00:02:00                1.622                  0.072   \n",
       "547599  1/1/2008  00:03:00                1.612                  0.070   \n",
       "547600  1/1/2008  00:04:00                1.612                  0.070   \n",
       "\n",
       "        voltage  global_intensity  global_consumption  \n",
       "547596   241.25               6.6                18.0  \n",
       "547597   241.74               6.6                18.0  \n",
       "547598   241.52               6.6                18.0  \n",
       "547599   240.82               6.6                18.0  \n",
       "547600   240.80               6.6                18.0  "
      ]
     },
     "execution_count": 54,
     "metadata": {},
     "output_type": "execute_result"
    }
   ],
   "source": [
    "X.head()"
   ]
  },
  {
   "cell_type": "code",
   "execution_count": 55,
   "metadata": {},
   "outputs": [
    {
     "data": {
      "text/html": [
       "<div>\n",
       "<style scoped>\n",
       "    .dataframe tbody tr th:only-of-type {\n",
       "        vertical-align: middle;\n",
       "    }\n",
       "\n",
       "    .dataframe tbody tr th {\n",
       "        vertical-align: top;\n",
       "    }\n",
       "\n",
       "    .dataframe thead th {\n",
       "        text-align: right;\n",
       "    }\n",
       "</style>\n",
       "<table border=\"1\" class=\"dataframe\">\n",
       "  <thead>\n",
       "    <tr style=\"text-align: right;\">\n",
       "      <th></th>\n",
       "      <th>sub_metering_1</th>\n",
       "      <th>sub_metering_2</th>\n",
       "      <th>sub_metering_3</th>\n",
       "    </tr>\n",
       "  </thead>\n",
       "  <tbody>\n",
       "    <tr>\n",
       "      <th>547596</th>\n",
       "      <td>0.0</td>\n",
       "      <td>0.0</td>\n",
       "      <td>18.0</td>\n",
       "    </tr>\n",
       "    <tr>\n",
       "      <th>547597</th>\n",
       "      <td>0.0</td>\n",
       "      <td>0.0</td>\n",
       "      <td>18.0</td>\n",
       "    </tr>\n",
       "    <tr>\n",
       "      <th>547598</th>\n",
       "      <td>0.0</td>\n",
       "      <td>0.0</td>\n",
       "      <td>18.0</td>\n",
       "    </tr>\n",
       "    <tr>\n",
       "      <th>547599</th>\n",
       "      <td>0.0</td>\n",
       "      <td>0.0</td>\n",
       "      <td>18.0</td>\n",
       "    </tr>\n",
       "    <tr>\n",
       "      <th>547600</th>\n",
       "      <td>0.0</td>\n",
       "      <td>0.0</td>\n",
       "      <td>18.0</td>\n",
       "    </tr>\n",
       "  </tbody>\n",
       "</table>\n",
       "</div>"
      ],
      "text/plain": [
       "        sub_metering_1  sub_metering_2  sub_metering_3\n",
       "547596             0.0             0.0            18.0\n",
       "547597             0.0             0.0            18.0\n",
       "547598             0.0             0.0            18.0\n",
       "547599             0.0             0.0            18.0\n",
       "547600             0.0             0.0            18.0"
      ]
     },
     "execution_count": 55,
     "metadata": {},
     "output_type": "execute_result"
    }
   ],
   "source": [
    "y.head()"
   ]
  },
  {
   "cell_type": "code",
   "execution_count": 56,
   "metadata": {},
   "outputs": [
    {
     "data": {
      "text/plain": [
       "((368928, 7), (158112, 7), (368928, 3), (158112, 3))"
      ]
     },
     "execution_count": 56,
     "metadata": {},
     "output_type": "execute_result"
    }
   ],
   "source": [
    "# Train/test Split /!\\ For later, if we use sequential models (ARIMA, RNN): see if we consider a TS special train/test split (to keep sequence's logic)\n",
    "X_train, X_test, y_train, y_test = train_test_split(X, y, test_size=0.3)\n",
    "X_train.shape, X_test.shape, y_train.shape, y_test.shape"
   ]
  },
  {
   "cell_type": "code",
   "execution_count": 57,
   "metadata": {},
   "outputs": [
    {
     "data": {
      "text/html": [
       "<div>\n",
       "<style scoped>\n",
       "    .dataframe tbody tr th:only-of-type {\n",
       "        vertical-align: middle;\n",
       "    }\n",
       "\n",
       "    .dataframe tbody tr th {\n",
       "        vertical-align: top;\n",
       "    }\n",
       "\n",
       "    .dataframe thead th {\n",
       "        text-align: right;\n",
       "    }\n",
       "</style>\n",
       "<table border=\"1\" class=\"dataframe\">\n",
       "  <thead>\n",
       "    <tr style=\"text-align: right;\">\n",
       "      <th></th>\n",
       "      <th>date</th>\n",
       "      <th>time</th>\n",
       "      <th>global_active_power</th>\n",
       "      <th>global_reactive_power</th>\n",
       "      <th>voltage</th>\n",
       "      <th>global_intensity</th>\n",
       "      <th>global_consumption</th>\n",
       "    </tr>\n",
       "  </thead>\n",
       "  <tbody>\n",
       "    <tr>\n",
       "      <th>803838</th>\n",
       "      <td>26/6/2008</td>\n",
       "      <td>22:42:00</td>\n",
       "      <td>0.222</td>\n",
       "      <td>0.000</td>\n",
       "      <td>241.12</td>\n",
       "      <td>1.0</td>\n",
       "      <td>1.0</td>\n",
       "    </tr>\n",
       "    <tr>\n",
       "      <th>656847</th>\n",
       "      <td>16/3/2008</td>\n",
       "      <td>20:51:00</td>\n",
       "      <td>2.694</td>\n",
       "      <td>0.180</td>\n",
       "      <td>237.63</td>\n",
       "      <td>11.4</td>\n",
       "      <td>19.0</td>\n",
       "    </tr>\n",
       "    <tr>\n",
       "      <th>790855</th>\n",
       "      <td>17/6/2008</td>\n",
       "      <td>22:19:00</td>\n",
       "      <td>2.120</td>\n",
       "      <td>0.290</td>\n",
       "      <td>241.99</td>\n",
       "      <td>8.8</td>\n",
       "      <td>20.0</td>\n",
       "    </tr>\n",
       "    <tr>\n",
       "      <th>799365</th>\n",
       "      <td>23/6/2008</td>\n",
       "      <td>20:09:00</td>\n",
       "      <td>1.298</td>\n",
       "      <td>0.072</td>\n",
       "      <td>239.25</td>\n",
       "      <td>5.4</td>\n",
       "      <td>18.0</td>\n",
       "    </tr>\n",
       "    <tr>\n",
       "      <th>632779</th>\n",
       "      <td>29/2/2008</td>\n",
       "      <td>03:43:00</td>\n",
       "      <td>0.298</td>\n",
       "      <td>0.100</td>\n",
       "      <td>241.69</td>\n",
       "      <td>1.2</td>\n",
       "      <td>2.0</td>\n",
       "    </tr>\n",
       "  </tbody>\n",
       "</table>\n",
       "</div>"
      ],
      "text/plain": [
       "             date      time  global_active_power  global_reactive_power  \\\n",
       "803838  26/6/2008  22:42:00                0.222                  0.000   \n",
       "656847  16/3/2008  20:51:00                2.694                  0.180   \n",
       "790855  17/6/2008  22:19:00                2.120                  0.290   \n",
       "799365  23/6/2008  20:09:00                1.298                  0.072   \n",
       "632779  29/2/2008  03:43:00                0.298                  0.100   \n",
       "\n",
       "        voltage  global_intensity  global_consumption  \n",
       "803838   241.12               1.0                 1.0  \n",
       "656847   237.63              11.4                19.0  \n",
       "790855   241.99               8.8                20.0  \n",
       "799365   239.25               5.4                18.0  \n",
       "632779   241.69               1.2                 2.0  "
      ]
     },
     "execution_count": 57,
     "metadata": {},
     "output_type": "execute_result"
    }
   ],
   "source": [
    "X_train.head()"
   ]
  },
  {
   "cell_type": "markdown",
   "metadata": {},
   "source": [
    "# 4. Train and save the pipeline"
   ]
  },
  {
   "cell_type": "code",
   "execution_count": 58,
   "metadata": {},
   "outputs": [],
   "source": [
    "# Function to save the pipeline locally\n",
    "def save_pipeline(pipeline: Pipeline = None,\n",
    "                  params: dict = None,\n",
    "                  metrics: dict = None) -> None:\n",
    "    \"\"\"\n",
    "    persist trained pipeline, params and metrics\n",
    "    \"\"\"\n",
    "\n",
    "    timestamp = time.strftime(\"%Y%m%d-%H%M%S\")\n",
    "\n",
    "    print(Fore.BLUE + \"\\nSave pipeline to local disk...\" + Style.RESET_ALL)\n",
    "\n",
    "    # save params\n",
    "    if params is not None:\n",
    "        params_path = os.path.join(LOCAL_REGISTRY_PATH, \"params\", timestamp + \".pickle\")\n",
    "        with open(params_path, \"wb\") as file:\n",
    "            pickle.dump(params, file)\n",
    "\n",
    "    # save metrics\n",
    "    if metrics is not None:\n",
    "        metrics_path = os.path.join(LOCAL_REGISTRY_PATH, \"metrics\", timestamp + \".pickle\")\n",
    "        with open(metrics_path, \"wb\") as file:\n",
    "            pickle.dump(metrics, file)\n",
    "\n",
    "    # save pipeline\n",
    "    if pipeline is not None:\n",
    "        pipeline_path = os.path.join(LOCAL_REGISTRY_PATH, \"models\", timestamp + \".joblib\")\n",
    "        dump(pipeline, pipeline_path)\n",
    "         \n",
    "    print(\"\\n✅ data saved locally\")\n",
    "\n",
    "    return None"
   ]
  },
  {
   "cell_type": "code",
   "execution_count": 59,
   "metadata": {},
   "outputs": [
    {
     "name": "stdout",
     "output_type": "stream",
     "text": [
      "{'r2_score': 0.8967825564027994}\n",
      "\u001b[34m\n",
      "Save pipeline to local disk...\u001b[0m\n",
      "\n",
      "✅ data saved locally\n",
      "CPU times: user 19.4 s, sys: 232 ms, total: 19.6 s\n",
      "Wall time: 19.7 s\n"
     ]
    }
   ],
   "source": [
    "%%time\n",
    "\n",
    "# Fit the pipeline\n",
    "pipeline.fit(X_train, y_train)\n",
    "\n",
    "# Mesure its performance\n",
    "r2_score = pipeline.score(X_test, y_test)\n",
    "#r2_score = pipeline.score(X_test[['Voltage']].dropna(), y_test.dropna())\n",
    "\n",
    "# Save it locally\n",
    "params = dict(\n",
    "    # Model parameters\n",
    "    n_estimators=10,\n",
    "\n",
    "    # Package behavior\n",
    "    context=\"train\",\n",
    "\n",
    "    # Data used to fit\n",
    "    dataset_start=data.date.iloc[0],\n",
    "    dataset_end=data.date.iloc[-1]\n",
    ")\n",
    "\n",
    "metrics = dict(r2_score=r2_score)\n",
    "print(metrics)\n",
    "\n",
    "save_pipeline(pipeline, params, metrics)"
   ]
  },
  {
   "cell_type": "markdown",
   "metadata": {},
   "source": [
    "# 5. Load the pipeline and try to predict"
   ]
  },
  {
   "cell_type": "code",
   "execution_count": 60,
   "metadata": {},
   "outputs": [],
   "source": [
    "# pipeline_path = os.path.join(LOCAL_REGISTRY_PATH, \"models\", \"20221123-170451.joblib\")\n",
    "# pipeline_loaded = load(pipeline_path)\n",
    "# pipeline_loaded"
   ]
  },
  {
   "cell_type": "code",
   "execution_count": 61,
   "metadata": {},
   "outputs": [],
   "source": [
    "# X_test"
   ]
  },
  {
   "cell_type": "code",
   "execution_count": 62,
   "metadata": {},
   "outputs": [],
   "source": [
    "# y_pred = pd.DataFrame(pipeline_loaded.predict(X_test), columns=labels)\n",
    "# y_pred['datetime'] = pd.to_datetime(X_test['date'] + ' ' + X_test['time'])\n",
    "# y_pred"
   ]
  }
 ],
 "metadata": {
  "kernelspec": {
   "display_name": "Python 3.8.12 64-bit ('decipherer-env')",
   "language": "python",
   "name": "python3"
  },
  "language_info": {
   "codemirror_mode": {
    "name": "ipython",
    "version": 3
   },
   "file_extension": ".py",
   "mimetype": "text/x-python",
   "name": "python",
   "nbconvert_exporter": "python",
   "pygments_lexer": "ipython3",
   "version": "3.8.12"
  },
  "orig_nbformat": 4,
  "vscode": {
   "interpreter": {
    "hash": "bc35e23fd734f125df582cdaf3d951c7615e4ac49ca032f361e6a527d796f73f"
   }
  }
 },
 "nbformat": 4,
 "nbformat_minor": 2
}
