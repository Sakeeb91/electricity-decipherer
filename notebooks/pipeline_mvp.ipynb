{
 "cells": [
  {
   "cell_type": "markdown",
   "metadata": {},
   "source": [
    "# 0. Imports"
   ]
  },
  {
   "cell_type": "code",
<<<<<<< HEAD
   "execution_count": 33,
=======
   "execution_count": 44,
>>>>>>> main
   "metadata": {},
   "outputs": [
    {
     "name": "stdout",
     "output_type": "stream",
     "text": [
      "The autoreload extension is already loaded. To reload it, use:\n",
      "  %reload_ext autoreload\n"
     ]
    }
   ],
   "source": [
    "%load_ext autoreload\n",
    "%autoreload 2\n",
    "\n",
    "# imports\n",
    "import pandas as pd\n",
    "import numpy as np\n",
    "import datetime as dt\n",
    "import time\n",
    "import os\n",
    "import pickle\n",
    "\n",
    "from colorama import Fore, Style\n",
    "from sklearn.pipeline import Pipeline\n",
    "from joblib import dump, load\n",
    "\n",
    "from sklearn.ensemble import RandomForestRegressor\n",
    "from sklearn.preprocessing import FunctionTransformer, StandardScaler\n",
    "from sklearn.compose import ColumnTransformer\n",
    "from sklearn.model_selection import train_test_split\n",
    "\n",
    "# Importing those functions from the API package so they can be used\n",
    "# by the loaded pipeline in the API package later\n",
    "from decipherer.ml_logic.encoders import ffill_nan, add_datetime_features\n",
    "\n",
    "from decipherer.ml_logic.registry import save_pipeline"
   ]
  },
  {
   "cell_type": "code",
<<<<<<< HEAD
   "execution_count": 18,
=======
   "execution_count": 45,
>>>>>>> main
   "metadata": {},
   "outputs": [
    {
     "name": "stdout",
     "output_type": "stream",
     "text": [
      "\u001b[01;34m../training_outputs\u001b[0m\n",
      "├── \u001b[01;34mmetrics\u001b[0m\n",
<<<<<<< HEAD
      "│   ├── 20221123-163916.pickle\n",
      "│   ├── 20221123-170451.pickle\n",
      "│   ├── 20221124-115822.pickle\n",
      "│   ├── 20221125-124411.pickle\n",
      "│   ├── 20221125-141247.pickle\n",
      "│   ├── 20221125-141615.pickle\n",
      "│   ├── 20221125-143102.pickle\n",
      "│   └── 20221125-145338.pickle\n",
      "├── \u001b[01;34mmodels\u001b[0m\n",
      "│   ├── 20221123-163916.joblib\n",
      "│   ├── 20221123-170451.joblib\n",
      "│   ├── 20221124-115822.joblib\n",
      "│   ├── 20221125-124411.joblib\n",
      "│   ├── 20221125-141247.joblib\n",
      "│   ├── 20221125-141615.joblib\n",
      "│   ├── 20221125-143102.joblib\n",
      "│   └── 20221125-145338.joblib\n",
      "└── \u001b[01;34mparams\u001b[0m\n",
      "    ├── 20221123-163916.pickle\n",
      "    ├── 20221123-170451.pickle\n",
      "    ├── 20221124-115822.pickle\n",
      "    ├── 20221125-124411.pickle\n",
      "    ├── 20221125-141247.pickle\n",
      "    ├── 20221125-141615.pickle\n",
      "    ├── 20221125-143102.pickle\n",
      "    └── 20221125-145338.pickle\n",
      "\n",
      "3 directories, 24 files\n"
=======
      "│   ├── \u001b[00m20221124-144607.pickle\u001b[0m\n",
      "│   └── \u001b[00m20221125-135344.pickle\u001b[0m\n",
      "├── \u001b[01;34mmodels\u001b[0m\n",
      "│   ├── \u001b[00m20221124-144607.joblib\u001b[0m\n",
      "│   └── \u001b[00m20221125-135344.joblib\u001b[0m\n",
      "└── \u001b[01;34mparams\u001b[0m\n",
      "    ├── \u001b[00m20221124-144607.pickle\u001b[0m\n",
      "    └── \u001b[00m20221125-135344.pickle\u001b[0m\n",
      "\n",
      "3 directories, 6 files\n"
>>>>>>> main
     ]
    }
   ],
   "source": [
    "# environment variables\n",
    "LOCAL_REGISTRY_PATH = \"../training_outputs\"\n",
    "\n",
    "# prerequisite: having a \"training_outputs\" folder at the root of the project\n",
    "! tree ../training_outputs"
   ]
  },
  {
   "cell_type": "markdown",
   "metadata": {},
   "source": [
    "# 1. Build pipeline"
   ]
  },
  {
   "cell_type": "code",
<<<<<<< HEAD
   "execution_count": 21,
=======
   "execution_count": 46,
   "metadata": {},
   "outputs": [],
   "source": [
    "# Get rid of nan values using ffil\n",
    "# def ffill_nan(X):\n",
    "#     return X.fillna(method='ffill', axis = 0)"
   ]
  },
  {
   "cell_type": "code",
   "execution_count": 47,
   "metadata": {},
   "outputs": [],
   "source": [
    "# # Create new datetime features\n",
    "# def add_datetime_features(X):\n",
    "    \n",
    "#     # Copy X to avoid pandas warning\n",
    "#     X_rep = X.copy()\n",
    "    \n",
    "#     # Handle datetime format\n",
    "#     datetime = pd.to_datetime(X_rep['date'] + ' ' + X_rep['time'])\n",
    "    \n",
    "#     # Create new features using month, weekday, hour and minute\n",
    "#     X_rep['month'] = datetime.dt.month\n",
    "#     X_rep['weekday'] = datetime.dt.weekday\n",
    "#     X_rep['hour'] = datetime.dt.hour\n",
    "#     X_rep['minute'] = datetime.dt.minute\n",
    "    \n",
    "#     # Consider periodic effects\n",
    "#     X_rep['month_sin'] = np.sin(2*np.pi*X_rep['month']/12)\n",
    "#     X_rep['month_cos'] = np.cos(2*np.pi*X_rep['month']/12)\n",
    "    \n",
    "#     # Get rid of Datetime\n",
    "#     return X_rep.drop(columns=['date', 'time'])"
   ]
  },
  {
   "cell_type": "code",
   "execution_count": 48,
>>>>>>> main
   "metadata": {},
   "outputs": [
    {
     "data": {
      "text/html": [
<<<<<<< HEAD
       "<style>#sk-container-id-2 {color: black;background-color: white;}#sk-container-id-2 pre{padding: 0;}#sk-container-id-2 div.sk-toggleable {background-color: white;}#sk-container-id-2 label.sk-toggleable__label {cursor: pointer;display: block;width: 100%;margin-bottom: 0;padding: 0.3em;box-sizing: border-box;text-align: center;}#sk-container-id-2 label.sk-toggleable__label-arrow:before {content: \"▸\";float: left;margin-right: 0.25em;color: #696969;}#sk-container-id-2 label.sk-toggleable__label-arrow:hover:before {color: black;}#sk-container-id-2 div.sk-estimator:hover label.sk-toggleable__label-arrow:before {color: black;}#sk-container-id-2 div.sk-toggleable__content {max-height: 0;max-width: 0;overflow: hidden;text-align: left;background-color: #f0f8ff;}#sk-container-id-2 div.sk-toggleable__content pre {margin: 0.2em;color: black;border-radius: 0.25em;background-color: #f0f8ff;}#sk-container-id-2 input.sk-toggleable__control:checked~div.sk-toggleable__content {max-height: 200px;max-width: 100%;overflow: auto;}#sk-container-id-2 input.sk-toggleable__control:checked~label.sk-toggleable__label-arrow:before {content: \"▾\";}#sk-container-id-2 div.sk-estimator input.sk-toggleable__control:checked~label.sk-toggleable__label {background-color: #d4ebff;}#sk-container-id-2 div.sk-label input.sk-toggleable__control:checked~label.sk-toggleable__label {background-color: #d4ebff;}#sk-container-id-2 input.sk-hidden--visually {border: 0;clip: rect(1px 1px 1px 1px);clip: rect(1px, 1px, 1px, 1px);height: 1px;margin: -1px;overflow: hidden;padding: 0;position: absolute;width: 1px;}#sk-container-id-2 div.sk-estimator {font-family: monospace;background-color: #f0f8ff;border: 1px dotted black;border-radius: 0.25em;box-sizing: border-box;margin-bottom: 0.5em;}#sk-container-id-2 div.sk-estimator:hover {background-color: #d4ebff;}#sk-container-id-2 div.sk-parallel-item::after {content: \"\";width: 100%;border-bottom: 1px solid gray;flex-grow: 1;}#sk-container-id-2 div.sk-label:hover label.sk-toggleable__label {background-color: #d4ebff;}#sk-container-id-2 div.sk-serial::before {content: \"\";position: absolute;border-left: 1px solid gray;box-sizing: border-box;top: 0;bottom: 0;left: 50%;z-index: 0;}#sk-container-id-2 div.sk-serial {display: flex;flex-direction: column;align-items: center;background-color: white;padding-right: 0.2em;padding-left: 0.2em;position: relative;}#sk-container-id-2 div.sk-item {position: relative;z-index: 1;}#sk-container-id-2 div.sk-parallel {display: flex;align-items: stretch;justify-content: center;background-color: white;position: relative;}#sk-container-id-2 div.sk-item::before, #sk-container-id-2 div.sk-parallel-item::before {content: \"\";position: absolute;border-left: 1px solid gray;box-sizing: border-box;top: 0;bottom: 0;left: 50%;z-index: -1;}#sk-container-id-2 div.sk-parallel-item {display: flex;flex-direction: column;z-index: 1;position: relative;background-color: white;}#sk-container-id-2 div.sk-parallel-item:first-child::after {align-self: flex-end;width: 50%;}#sk-container-id-2 div.sk-parallel-item:last-child::after {align-self: flex-start;width: 50%;}#sk-container-id-2 div.sk-parallel-item:only-child::after {width: 0;}#sk-container-id-2 div.sk-dashed-wrapped {border: 1px dashed gray;margin: 0 0.4em 0.5em 0.4em;box-sizing: border-box;padding-bottom: 0.4em;background-color: white;}#sk-container-id-2 div.sk-label label {font-family: monospace;font-weight: bold;display: inline-block;line-height: 1.2em;}#sk-container-id-2 div.sk-label-container {text-align: center;}#sk-container-id-2 div.sk-container {/* jupyter's `normalize.less` sets `[hidden] { display: none; }` but bootstrap.min.css set `[hidden] { display: none !important; }` so we also need the `!important` here to be able to override the default hidden behavior on the sphinx rendered scikit-learn.org. See: https://github.com/scikit-learn/scikit-learn/issues/21755 */display: inline-block !important;position: relative;}#sk-container-id-2 div.sk-text-repr-fallback {display: none;}</style><div id=\"sk-container-id-2\" class=\"sk-top-container\"><div class=\"sk-text-repr-fallback\"><pre>Pipeline(steps=[(&#x27;preparator&#x27;,\n",
       "                 ColumnTransformer(transformers=[(&#x27;imputer&#x27;,\n",
       "                                                  FunctionTransformer(func=&lt;function ffill_nan at 0x7f9c42089670&gt;),\n",
=======
       "<style>#sk-container-id-4 {color: black;background-color: white;}#sk-container-id-4 pre{padding: 0;}#sk-container-id-4 div.sk-toggleable {background-color: white;}#sk-container-id-4 label.sk-toggleable__label {cursor: pointer;display: block;width: 100%;margin-bottom: 0;padding: 0.3em;box-sizing: border-box;text-align: center;}#sk-container-id-4 label.sk-toggleable__label-arrow:before {content: \"▸\";float: left;margin-right: 0.25em;color: #696969;}#sk-container-id-4 label.sk-toggleable__label-arrow:hover:before {color: black;}#sk-container-id-4 div.sk-estimator:hover label.sk-toggleable__label-arrow:before {color: black;}#sk-container-id-4 div.sk-toggleable__content {max-height: 0;max-width: 0;overflow: hidden;text-align: left;background-color: #f0f8ff;}#sk-container-id-4 div.sk-toggleable__content pre {margin: 0.2em;color: black;border-radius: 0.25em;background-color: #f0f8ff;}#sk-container-id-4 input.sk-toggleable__control:checked~div.sk-toggleable__content {max-height: 200px;max-width: 100%;overflow: auto;}#sk-container-id-4 input.sk-toggleable__control:checked~label.sk-toggleable__label-arrow:before {content: \"▾\";}#sk-container-id-4 div.sk-estimator input.sk-toggleable__control:checked~label.sk-toggleable__label {background-color: #d4ebff;}#sk-container-id-4 div.sk-label input.sk-toggleable__control:checked~label.sk-toggleable__label {background-color: #d4ebff;}#sk-container-id-4 input.sk-hidden--visually {border: 0;clip: rect(1px 1px 1px 1px);clip: rect(1px, 1px, 1px, 1px);height: 1px;margin: -1px;overflow: hidden;padding: 0;position: absolute;width: 1px;}#sk-container-id-4 div.sk-estimator {font-family: monospace;background-color: #f0f8ff;border: 1px dotted black;border-radius: 0.25em;box-sizing: border-box;margin-bottom: 0.5em;}#sk-container-id-4 div.sk-estimator:hover {background-color: #d4ebff;}#sk-container-id-4 div.sk-parallel-item::after {content: \"\";width: 100%;border-bottom: 1px solid gray;flex-grow: 1;}#sk-container-id-4 div.sk-label:hover label.sk-toggleable__label {background-color: #d4ebff;}#sk-container-id-4 div.sk-serial::before {content: \"\";position: absolute;border-left: 1px solid gray;box-sizing: border-box;top: 0;bottom: 0;left: 50%;z-index: 0;}#sk-container-id-4 div.sk-serial {display: flex;flex-direction: column;align-items: center;background-color: white;padding-right: 0.2em;padding-left: 0.2em;position: relative;}#sk-container-id-4 div.sk-item {position: relative;z-index: 1;}#sk-container-id-4 div.sk-parallel {display: flex;align-items: stretch;justify-content: center;background-color: white;position: relative;}#sk-container-id-4 div.sk-item::before, #sk-container-id-4 div.sk-parallel-item::before {content: \"\";position: absolute;border-left: 1px solid gray;box-sizing: border-box;top: 0;bottom: 0;left: 50%;z-index: -1;}#sk-container-id-4 div.sk-parallel-item {display: flex;flex-direction: column;z-index: 1;position: relative;background-color: white;}#sk-container-id-4 div.sk-parallel-item:first-child::after {align-self: flex-end;width: 50%;}#sk-container-id-4 div.sk-parallel-item:last-child::after {align-self: flex-start;width: 50%;}#sk-container-id-4 div.sk-parallel-item:only-child::after {width: 0;}#sk-container-id-4 div.sk-dashed-wrapped {border: 1px dashed gray;margin: 0 0.4em 0.5em 0.4em;box-sizing: border-box;padding-bottom: 0.4em;background-color: white;}#sk-container-id-4 div.sk-label label {font-family: monospace;font-weight: bold;display: inline-block;line-height: 1.2em;}#sk-container-id-4 div.sk-label-container {text-align: center;}#sk-container-id-4 div.sk-container {/* jupyter's `normalize.less` sets `[hidden] { display: none; }` but bootstrap.min.css set `[hidden] { display: none !important; }` so we also need the `!important` here to be able to override the default hidden behavior on the sphinx rendered scikit-learn.org. See: https://github.com/scikit-learn/scikit-learn/issues/21755 */display: inline-block !important;position: relative;}#sk-container-id-4 div.sk-text-repr-fallback {display: none;}</style><div id=\"sk-container-id-4\" class=\"sk-top-container\"><div class=\"sk-text-repr-fallback\"><pre>Pipeline(steps=[(&#x27;preparator&#x27;,\n",
       "                 ColumnTransformer(transformers=[(&#x27;imputer&#x27;,\n",
       "                                                  FunctionTransformer(func=&lt;function ffill_nan at 0x1425471f0&gt;),\n",
>>>>>>> main
       "                                                  [&#x27;global_active_power&#x27;,\n",
       "                                                   &#x27;global_reactive_power&#x27;,\n",
       "                                                   &#x27;voltage&#x27;,\n",
       "                                                   &#x27;global_intensity&#x27;,\n",
       "                                                   &#x27;global_consumption&#x27;]),\n",
       "                                                 (&#x27;datetime_features_adder&#x27;,\n",
<<<<<<< HEAD
       "                                                  FunctionTransformer(func=&lt;function add_datetime_features at 0x7f9c42089700&gt;),\n",
       "                                                  [&#x27;date&#x27;, &#x27;time&#x27;])])),\n",
       "                (&#x27;std_scaler&#x27;, StandardScaler()),\n",
       "                (&#x27;estimator&#x27;, RandomForestRegressor(n_estimators=10))])</pre><b>In a Jupyter environment, please rerun this cell to show the HTML representation or trust the notebook. <br />On GitHub, the HTML representation is unable to render, please try loading this page with nbviewer.org.</b></div><div class=\"sk-container\" hidden><div class=\"sk-item sk-dashed-wrapped\"><div class=\"sk-label-container\"><div class=\"sk-label sk-toggleable\"><input class=\"sk-toggleable__control sk-hidden--visually\" id=\"sk-estimator-id-9\" type=\"checkbox\" ><label for=\"sk-estimator-id-9\" class=\"sk-toggleable__label sk-toggleable__label-arrow\">Pipeline</label><div class=\"sk-toggleable__content\"><pre>Pipeline(steps=[(&#x27;preparator&#x27;,\n",
       "                 ColumnTransformer(transformers=[(&#x27;imputer&#x27;,\n",
       "                                                  FunctionTransformer(func=&lt;function ffill_nan at 0x7f9c42089670&gt;),\n",
=======
       "                                                  FunctionTransformer(func=&lt;function add_datetime_features at 0x142547550&gt;),\n",
       "                                                  [&#x27;date&#x27;, &#x27;time&#x27;])])),\n",
       "                (&#x27;std_scaler&#x27;, StandardScaler()),\n",
       "                (&#x27;estimator&#x27;, RandomForestRegressor(n_estimators=10))])</pre><b>In a Jupyter environment, please rerun this cell to show the HTML representation or trust the notebook. <br />On GitHub, the HTML representation is unable to render, please try loading this page with nbviewer.org.</b></div><div class=\"sk-container\" hidden><div class=\"sk-item sk-dashed-wrapped\"><div class=\"sk-label-container\"><div class=\"sk-label sk-toggleable\"><input class=\"sk-toggleable__control sk-hidden--visually\" id=\"sk-estimator-id-25\" type=\"checkbox\" ><label for=\"sk-estimator-id-25\" class=\"sk-toggleable__label sk-toggleable__label-arrow\">Pipeline</label><div class=\"sk-toggleable__content\"><pre>Pipeline(steps=[(&#x27;preparator&#x27;,\n",
       "                 ColumnTransformer(transformers=[(&#x27;imputer&#x27;,\n",
       "                                                  FunctionTransformer(func=&lt;function ffill_nan at 0x1425471f0&gt;),\n",
>>>>>>> main
       "                                                  [&#x27;global_active_power&#x27;,\n",
       "                                                   &#x27;global_reactive_power&#x27;,\n",
       "                                                   &#x27;voltage&#x27;,\n",
       "                                                   &#x27;global_intensity&#x27;,\n",
       "                                                   &#x27;global_consumption&#x27;]),\n",
       "                                                 (&#x27;datetime_features_adder&#x27;,\n",
<<<<<<< HEAD
       "                                                  FunctionTransformer(func=&lt;function add_datetime_features at 0x7f9c42089700&gt;),\n",
       "                                                  [&#x27;date&#x27;, &#x27;time&#x27;])])),\n",
       "                (&#x27;std_scaler&#x27;, StandardScaler()),\n",
       "                (&#x27;estimator&#x27;, RandomForestRegressor(n_estimators=10))])</pre></div></div></div><div class=\"sk-serial\"><div class=\"sk-item sk-dashed-wrapped\"><div class=\"sk-label-container\"><div class=\"sk-label sk-toggleable\"><input class=\"sk-toggleable__control sk-hidden--visually\" id=\"sk-estimator-id-10\" type=\"checkbox\" ><label for=\"sk-estimator-id-10\" class=\"sk-toggleable__label sk-toggleable__label-arrow\">preparator: ColumnTransformer</label><div class=\"sk-toggleable__content\"><pre>ColumnTransformer(transformers=[(&#x27;imputer&#x27;,\n",
       "                                 FunctionTransformer(func=&lt;function ffill_nan at 0x7f9c42089670&gt;),\n",
=======
       "                                                  FunctionTransformer(func=&lt;function add_datetime_features at 0x142547550&gt;),\n",
       "                                                  [&#x27;date&#x27;, &#x27;time&#x27;])])),\n",
       "                (&#x27;std_scaler&#x27;, StandardScaler()),\n",
       "                (&#x27;estimator&#x27;, RandomForestRegressor(n_estimators=10))])</pre></div></div></div><div class=\"sk-serial\"><div class=\"sk-item sk-dashed-wrapped\"><div class=\"sk-label-container\"><div class=\"sk-label sk-toggleable\"><input class=\"sk-toggleable__control sk-hidden--visually\" id=\"sk-estimator-id-26\" type=\"checkbox\" ><label for=\"sk-estimator-id-26\" class=\"sk-toggleable__label sk-toggleable__label-arrow\">preparator: ColumnTransformer</label><div class=\"sk-toggleable__content\"><pre>ColumnTransformer(transformers=[(&#x27;imputer&#x27;,\n",
       "                                 FunctionTransformer(func=&lt;function ffill_nan at 0x1425471f0&gt;),\n",
>>>>>>> main
       "                                 [&#x27;global_active_power&#x27;,\n",
       "                                  &#x27;global_reactive_power&#x27;, &#x27;voltage&#x27;,\n",
       "                                  &#x27;global_intensity&#x27;, &#x27;global_consumption&#x27;]),\n",
       "                                (&#x27;datetime_features_adder&#x27;,\n",
<<<<<<< HEAD
       "                                 FunctionTransformer(func=&lt;function add_datetime_features at 0x7f9c42089700&gt;),\n",
       "                                 [&#x27;date&#x27;, &#x27;time&#x27;])])</pre></div></div></div><div class=\"sk-parallel\"><div class=\"sk-parallel-item\"><div class=\"sk-item\"><div class=\"sk-label-container\"><div class=\"sk-label sk-toggleable\"><input class=\"sk-toggleable__control sk-hidden--visually\" id=\"sk-estimator-id-11\" type=\"checkbox\" ><label for=\"sk-estimator-id-11\" class=\"sk-toggleable__label sk-toggleable__label-arrow\">imputer</label><div class=\"sk-toggleable__content\"><pre>[&#x27;global_active_power&#x27;, &#x27;global_reactive_power&#x27;, &#x27;voltage&#x27;, &#x27;global_intensity&#x27;, &#x27;global_consumption&#x27;]</pre></div></div></div><div class=\"sk-serial\"><div class=\"sk-item\"><div class=\"sk-estimator sk-toggleable\"><input class=\"sk-toggleable__control sk-hidden--visually\" id=\"sk-estimator-id-12\" type=\"checkbox\" ><label for=\"sk-estimator-id-12\" class=\"sk-toggleable__label sk-toggleable__label-arrow\">FunctionTransformer</label><div class=\"sk-toggleable__content\"><pre>FunctionTransformer(func=&lt;function ffill_nan at 0x7f9c42089670&gt;)</pre></div></div></div></div></div></div><div class=\"sk-parallel-item\"><div class=\"sk-item\"><div class=\"sk-label-container\"><div class=\"sk-label sk-toggleable\"><input class=\"sk-toggleable__control sk-hidden--visually\" id=\"sk-estimator-id-13\" type=\"checkbox\" ><label for=\"sk-estimator-id-13\" class=\"sk-toggleable__label sk-toggleable__label-arrow\">datetime_features_adder</label><div class=\"sk-toggleable__content\"><pre>[&#x27;date&#x27;, &#x27;time&#x27;]</pre></div></div></div><div class=\"sk-serial\"><div class=\"sk-item\"><div class=\"sk-estimator sk-toggleable\"><input class=\"sk-toggleable__control sk-hidden--visually\" id=\"sk-estimator-id-14\" type=\"checkbox\" ><label for=\"sk-estimator-id-14\" class=\"sk-toggleable__label sk-toggleable__label-arrow\">FunctionTransformer</label><div class=\"sk-toggleable__content\"><pre>FunctionTransformer(func=&lt;function add_datetime_features at 0x7f9c42089700&gt;)</pre></div></div></div></div></div></div></div></div><div class=\"sk-item\"><div class=\"sk-estimator sk-toggleable\"><input class=\"sk-toggleable__control sk-hidden--visually\" id=\"sk-estimator-id-15\" type=\"checkbox\" ><label for=\"sk-estimator-id-15\" class=\"sk-toggleable__label sk-toggleable__label-arrow\">StandardScaler</label><div class=\"sk-toggleable__content\"><pre>StandardScaler()</pre></div></div></div><div class=\"sk-item\"><div class=\"sk-estimator sk-toggleable\"><input class=\"sk-toggleable__control sk-hidden--visually\" id=\"sk-estimator-id-16\" type=\"checkbox\" ><label for=\"sk-estimator-id-16\" class=\"sk-toggleable__label sk-toggleable__label-arrow\">RandomForestRegressor</label><div class=\"sk-toggleable__content\"><pre>RandomForestRegressor(n_estimators=10)</pre></div></div></div></div></div></div></div>"
=======
       "                                 FunctionTransformer(func=&lt;function add_datetime_features at 0x142547550&gt;),\n",
       "                                 [&#x27;date&#x27;, &#x27;time&#x27;])])</pre></div></div></div><div class=\"sk-parallel\"><div class=\"sk-parallel-item\"><div class=\"sk-item\"><div class=\"sk-label-container\"><div class=\"sk-label sk-toggleable\"><input class=\"sk-toggleable__control sk-hidden--visually\" id=\"sk-estimator-id-27\" type=\"checkbox\" ><label for=\"sk-estimator-id-27\" class=\"sk-toggleable__label sk-toggleable__label-arrow\">imputer</label><div class=\"sk-toggleable__content\"><pre>[&#x27;global_active_power&#x27;, &#x27;global_reactive_power&#x27;, &#x27;voltage&#x27;, &#x27;global_intensity&#x27;, &#x27;global_consumption&#x27;]</pre></div></div></div><div class=\"sk-serial\"><div class=\"sk-item\"><div class=\"sk-estimator sk-toggleable\"><input class=\"sk-toggleable__control sk-hidden--visually\" id=\"sk-estimator-id-28\" type=\"checkbox\" ><label for=\"sk-estimator-id-28\" class=\"sk-toggleable__label sk-toggleable__label-arrow\">FunctionTransformer</label><div class=\"sk-toggleable__content\"><pre>FunctionTransformer(func=&lt;function ffill_nan at 0x1425471f0&gt;)</pre></div></div></div></div></div></div><div class=\"sk-parallel-item\"><div class=\"sk-item\"><div class=\"sk-label-container\"><div class=\"sk-label sk-toggleable\"><input class=\"sk-toggleable__control sk-hidden--visually\" id=\"sk-estimator-id-29\" type=\"checkbox\" ><label for=\"sk-estimator-id-29\" class=\"sk-toggleable__label sk-toggleable__label-arrow\">datetime_features_adder</label><div class=\"sk-toggleable__content\"><pre>[&#x27;date&#x27;, &#x27;time&#x27;]</pre></div></div></div><div class=\"sk-serial\"><div class=\"sk-item\"><div class=\"sk-estimator sk-toggleable\"><input class=\"sk-toggleable__control sk-hidden--visually\" id=\"sk-estimator-id-30\" type=\"checkbox\" ><label for=\"sk-estimator-id-30\" class=\"sk-toggleable__label sk-toggleable__label-arrow\">FunctionTransformer</label><div class=\"sk-toggleable__content\"><pre>FunctionTransformer(func=&lt;function add_datetime_features at 0x142547550&gt;)</pre></div></div></div></div></div></div></div></div><div class=\"sk-item\"><div class=\"sk-estimator sk-toggleable\"><input class=\"sk-toggleable__control sk-hidden--visually\" id=\"sk-estimator-id-31\" type=\"checkbox\" ><label for=\"sk-estimator-id-31\" class=\"sk-toggleable__label sk-toggleable__label-arrow\">StandardScaler</label><div class=\"sk-toggleable__content\"><pre>StandardScaler()</pre></div></div></div><div class=\"sk-item\"><div class=\"sk-estimator sk-toggleable\"><input class=\"sk-toggleable__control sk-hidden--visually\" id=\"sk-estimator-id-32\" type=\"checkbox\" ><label for=\"sk-estimator-id-32\" class=\"sk-toggleable__label sk-toggleable__label-arrow\">RandomForestRegressor</label><div class=\"sk-toggleable__content\"><pre>RandomForestRegressor(n_estimators=10)</pre></div></div></div></div></div></div></div>"
>>>>>>> main
      ],
      "text/plain": [
       "Pipeline(steps=[('preparator',\n",
       "                 ColumnTransformer(transformers=[('imputer',\n",
<<<<<<< HEAD
       "                                                  FunctionTransformer(func=<function ffill_nan at 0x7f9c42089670>),\n",
=======
       "                                                  FunctionTransformer(func=<function ffill_nan at 0x1425471f0>),\n",
>>>>>>> main
       "                                                  ['global_active_power',\n",
       "                                                   'global_reactive_power',\n",
       "                                                   'voltage',\n",
       "                                                   'global_intensity',\n",
       "                                                   'global_consumption']),\n",
       "                                                 ('datetime_features_adder',\n",
<<<<<<< HEAD
       "                                                  FunctionTransformer(func=<function add_datetime_features at 0x7f9c42089700>),\n",
=======
       "                                                  FunctionTransformer(func=<function add_datetime_features at 0x142547550>),\n",
>>>>>>> main
       "                                                  ['date', 'time'])])),\n",
       "                ('std_scaler', StandardScaler()),\n",
       "                ('estimator', RandomForestRegressor(n_estimators=10))])"
      ]
     },
<<<<<<< HEAD
     "execution_count": 21,
=======
     "execution_count": 48,
>>>>>>> main
     "metadata": {},
     "output_type": "execute_result"
    }
   ],
   "source": [
    "# Create a pipeline to preprocess the data\n",
    "\n",
    "n_estimators = 10\n",
    "\n",
    "features = ['global_active_power', 'global_reactive_power', 'voltage', 'global_intensity', 'global_consumption']\n",
    "datetimes = ['date', 'time']\n",
    "\n",
    "preparator = ColumnTransformer([ \n",
    "    ('imputer', FunctionTransformer(ffill_nan), features),\n",
    "    ('datetime_features_adder', FunctionTransformer(add_datetime_features), datetimes)\n",
    "])\n",
    "\n",
    "pipeline = Pipeline([\n",
    "    ('preparator', preparator),\n",
    "    ('std_scaler', StandardScaler()),\n",
    "    ('estimator', RandomForestRegressor(n_estimators=n_estimators))\n",
    "])\n",
    "\n",
    "pipeline"
   ]
  },
  {
   "cell_type": "markdown",
   "metadata": {},
   "source": [
    "# 3. Prepare the data to train"
   ]
  },
  {
   "cell_type": "code",
<<<<<<< HEAD
   "execution_count": 22,
=======
   "execution_count": 49,
>>>>>>> main
   "metadata": {},
   "outputs": [
    {
     "name": "stdout",
     "output_type": "stream",
     "text": [
      "<class 'pandas.core.frame.DataFrame'>\n",
      "Int64Index: 527040 entries, 547596 to 1074635\n",
      "Data columns (total 9 columns):\n",
      " #   Column                 Non-Null Count   Dtype  \n",
      "---  ------                 --------------   -----  \n",
      " 0   date                   527040 non-null  object \n",
      " 1   time                   527040 non-null  object \n",
      " 2   global_active_power    526905 non-null  float64\n",
      " 3   global_reactive_power  526905 non-null  float64\n",
      " 4   voltage                526905 non-null  float64\n",
      " 5   global_intensity       526905 non-null  float64\n",
      " 6   sub_metering_1         526905 non-null  float64\n",
      " 7   sub_metering_2         526905 non-null  float64\n",
      " 8   sub_metering_3         526905 non-null  float64\n",
      "dtypes: float64(7), object(2)\n",
      "memory usage: 40.2+ MB\n"
     ]
    }
   ],
   "source": [
    "# Take just a subset of the data for now (year==2008)\n",
    "data = pd.read_csv('../data/household_power_consumption.txt', sep=';', na_values='?')\n",
    "data = data[data.Date.str.endswith('2008')]\n",
    "data.columns = data.columns.str.lower()\n",
    "data.info()"
   ]
  },
  {
   "cell_type": "code",
<<<<<<< HEAD
   "execution_count": 23,
=======
   "execution_count": 50,
>>>>>>> main
   "metadata": {},
   "outputs": [],
   "source": [
    "labels = ['sub_metering_1', 'sub_metering_2', 'sub_metering_3']\n",
    "data['global_consumption'] = data[labels].sum(axis=1)"
   ]
  },
  {
   "cell_type": "code",
<<<<<<< HEAD
   "execution_count": 24,
=======
   "execution_count": 51,
>>>>>>> main
   "metadata": {},
   "outputs": [
    {
     "data": {
      "text/plain": [
       "((527040, 7), (527040, 3))"
      ]
     },
<<<<<<< HEAD
     "execution_count": 24,
=======
     "execution_count": 51,
>>>>>>> main
     "metadata": {},
     "output_type": "execute_result"
    }
   ],
   "source": [
    "# Create X, y and save datetime in a separeted column\n",
    "X = data.drop(columns=labels)\n",
    "y = data[labels]\n",
    "X.shape, y.shape"
   ]
  },
  {
   "cell_type": "code",
<<<<<<< HEAD
   "execution_count": 25,
=======
   "execution_count": 52,
>>>>>>> main
   "metadata": {},
   "outputs": [
    {
     "data": {
      "text/plain": [
       "sub_metering_1    135\n",
       "sub_metering_2    135\n",
       "sub_metering_3    135\n",
       "dtype: int64"
      ]
     },
<<<<<<< HEAD
     "execution_count": 25,
=======
     "execution_count": 52,
>>>>>>> main
     "metadata": {},
     "output_type": "execute_result"
    }
   ],
   "source": [
    "y.isna().sum()"
   ]
  },
  {
   "cell_type": "code",
<<<<<<< HEAD
   "execution_count": 26,
=======
   "execution_count": 53,
>>>>>>> main
   "metadata": {},
   "outputs": [],
   "source": [
    "# Remove na values from y\n",
    "y = y.fillna(method='ffill', axis=0)"
   ]
  },
  {
   "cell_type": "code",
<<<<<<< HEAD
   "execution_count": 27,
=======
   "execution_count": 54,
>>>>>>> main
   "metadata": {},
   "outputs": [
    {
     "data": {
      "text/html": [
       "<div>\n",
       "<style scoped>\n",
       "    .dataframe tbody tr th:only-of-type {\n",
       "        vertical-align: middle;\n",
       "    }\n",
       "\n",
       "    .dataframe tbody tr th {\n",
       "        vertical-align: top;\n",
       "    }\n",
       "\n",
       "    .dataframe thead th {\n",
       "        text-align: right;\n",
       "    }\n",
       "</style>\n",
       "<table border=\"1\" class=\"dataframe\">\n",
       "  <thead>\n",
       "    <tr style=\"text-align: right;\">\n",
       "      <th></th>\n",
       "      <th>date</th>\n",
       "      <th>time</th>\n",
       "      <th>global_active_power</th>\n",
       "      <th>global_reactive_power</th>\n",
       "      <th>voltage</th>\n",
       "      <th>global_intensity</th>\n",
       "      <th>global_consumption</th>\n",
       "    </tr>\n",
       "  </thead>\n",
       "  <tbody>\n",
       "    <tr>\n",
       "      <th>547596</th>\n",
       "      <td>1/1/2008</td>\n",
       "      <td>00:00:00</td>\n",
       "      <td>1.620</td>\n",
       "      <td>0.070</td>\n",
       "      <td>241.25</td>\n",
       "      <td>6.6</td>\n",
       "      <td>18.0</td>\n",
       "    </tr>\n",
       "    <tr>\n",
       "      <th>547597</th>\n",
       "      <td>1/1/2008</td>\n",
       "      <td>00:01:00</td>\n",
       "      <td>1.626</td>\n",
       "      <td>0.072</td>\n",
       "      <td>241.74</td>\n",
       "      <td>6.6</td>\n",
       "      <td>18.0</td>\n",
       "    </tr>\n",
       "    <tr>\n",
       "      <th>547598</th>\n",
       "      <td>1/1/2008</td>\n",
       "      <td>00:02:00</td>\n",
       "      <td>1.622</td>\n",
       "      <td>0.072</td>\n",
       "      <td>241.52</td>\n",
       "      <td>6.6</td>\n",
       "      <td>18.0</td>\n",
       "    </tr>\n",
       "    <tr>\n",
       "      <th>547599</th>\n",
       "      <td>1/1/2008</td>\n",
       "      <td>00:03:00</td>\n",
       "      <td>1.612</td>\n",
       "      <td>0.070</td>\n",
       "      <td>240.82</td>\n",
       "      <td>6.6</td>\n",
       "      <td>18.0</td>\n",
       "    </tr>\n",
       "    <tr>\n",
       "      <th>547600</th>\n",
       "      <td>1/1/2008</td>\n",
       "      <td>00:04:00</td>\n",
       "      <td>1.612</td>\n",
       "      <td>0.070</td>\n",
       "      <td>240.80</td>\n",
       "      <td>6.6</td>\n",
       "      <td>18.0</td>\n",
       "    </tr>\n",
       "  </tbody>\n",
       "</table>\n",
       "</div>"
      ],
      "text/plain": [
       "            date      time  global_active_power  global_reactive_power  \\\n",
       "547596  1/1/2008  00:00:00                1.620                  0.070   \n",
       "547597  1/1/2008  00:01:00                1.626                  0.072   \n",
       "547598  1/1/2008  00:02:00                1.622                  0.072   \n",
       "547599  1/1/2008  00:03:00                1.612                  0.070   \n",
       "547600  1/1/2008  00:04:00                1.612                  0.070   \n",
       "\n",
       "        voltage  global_intensity  global_consumption  \n",
       "547596   241.25               6.6                18.0  \n",
       "547597   241.74               6.6                18.0  \n",
       "547598   241.52               6.6                18.0  \n",
       "547599   240.82               6.6                18.0  \n",
       "547600   240.80               6.6                18.0  "
      ]
     },
<<<<<<< HEAD
     "execution_count": 27,
=======
     "execution_count": 54,
>>>>>>> main
     "metadata": {},
     "output_type": "execute_result"
    }
   ],
   "source": [
    "X.head()"
   ]
  },
  {
   "cell_type": "code",
<<<<<<< HEAD
   "execution_count": 28,
=======
   "execution_count": 55,
>>>>>>> main
   "metadata": {},
   "outputs": [
    {
     "data": {
      "text/html": [
       "<div>\n",
       "<style scoped>\n",
       "    .dataframe tbody tr th:only-of-type {\n",
       "        vertical-align: middle;\n",
       "    }\n",
       "\n",
       "    .dataframe tbody tr th {\n",
       "        vertical-align: top;\n",
       "    }\n",
       "\n",
       "    .dataframe thead th {\n",
       "        text-align: right;\n",
       "    }\n",
       "</style>\n",
       "<table border=\"1\" class=\"dataframe\">\n",
       "  <thead>\n",
       "    <tr style=\"text-align: right;\">\n",
       "      <th></th>\n",
       "      <th>sub_metering_1</th>\n",
       "      <th>sub_metering_2</th>\n",
       "      <th>sub_metering_3</th>\n",
       "    </tr>\n",
       "  </thead>\n",
       "  <tbody>\n",
       "    <tr>\n",
       "      <th>547596</th>\n",
       "      <td>0.0</td>\n",
       "      <td>0.0</td>\n",
       "      <td>18.0</td>\n",
       "    </tr>\n",
       "    <tr>\n",
       "      <th>547597</th>\n",
       "      <td>0.0</td>\n",
       "      <td>0.0</td>\n",
       "      <td>18.0</td>\n",
       "    </tr>\n",
       "    <tr>\n",
       "      <th>547598</th>\n",
       "      <td>0.0</td>\n",
       "      <td>0.0</td>\n",
       "      <td>18.0</td>\n",
       "    </tr>\n",
       "    <tr>\n",
       "      <th>547599</th>\n",
       "      <td>0.0</td>\n",
       "      <td>0.0</td>\n",
       "      <td>18.0</td>\n",
       "    </tr>\n",
       "    <tr>\n",
       "      <th>547600</th>\n",
       "      <td>0.0</td>\n",
       "      <td>0.0</td>\n",
       "      <td>18.0</td>\n",
       "    </tr>\n",
       "  </tbody>\n",
       "</table>\n",
       "</div>"
      ],
      "text/plain": [
       "        sub_metering_1  sub_metering_2  sub_metering_3\n",
       "547596             0.0             0.0            18.0\n",
       "547597             0.0             0.0            18.0\n",
       "547598             0.0             0.0            18.0\n",
       "547599             0.0             0.0            18.0\n",
       "547600             0.0             0.0            18.0"
      ]
     },
<<<<<<< HEAD
     "execution_count": 28,
=======
     "execution_count": 55,
>>>>>>> main
     "metadata": {},
     "output_type": "execute_result"
    }
   ],
   "source": [
    "y.head()"
   ]
  },
  {
   "cell_type": "code",
<<<<<<< HEAD
   "execution_count": 29,
=======
   "execution_count": 56,
>>>>>>> main
   "metadata": {},
   "outputs": [
    {
     "data": {
      "text/plain": [
       "((368928, 7), (158112, 7), (368928, 3), (158112, 3))"
      ]
     },
<<<<<<< HEAD
     "execution_count": 29,
=======
     "execution_count": 56,
>>>>>>> main
     "metadata": {},
     "output_type": "execute_result"
    }
   ],
   "source": [
    "# Train/test Split /!\\ For later, if we use sequential models (ARIMA, RNN): see if we consider a TS special train/test split (to keep sequence's logic)\n",
    "X_train, X_test, y_train, y_test = train_test_split(X, y, test_size=0.3)\n",
    "X_train.shape, X_test.shape, y_train.shape, y_test.shape"
   ]
  },
  {
   "cell_type": "code",
<<<<<<< HEAD
   "execution_count": 30,
=======
   "execution_count": 57,
>>>>>>> main
   "metadata": {},
   "outputs": [
    {
     "data": {
      "text/html": [
       "<div>\n",
       "<style scoped>\n",
       "    .dataframe tbody tr th:only-of-type {\n",
       "        vertical-align: middle;\n",
       "    }\n",
       "\n",
       "    .dataframe tbody tr th {\n",
       "        vertical-align: top;\n",
       "    }\n",
       "\n",
       "    .dataframe thead th {\n",
       "        text-align: right;\n",
       "    }\n",
       "</style>\n",
       "<table border=\"1\" class=\"dataframe\">\n",
       "  <thead>\n",
       "    <tr style=\"text-align: right;\">\n",
       "      <th></th>\n",
       "      <th>date</th>\n",
       "      <th>time</th>\n",
       "      <th>global_active_power</th>\n",
       "      <th>global_reactive_power</th>\n",
       "      <th>voltage</th>\n",
       "      <th>global_intensity</th>\n",
       "      <th>global_consumption</th>\n",
       "    </tr>\n",
       "  </thead>\n",
       "  <tbody>\n",
       "    <tr>\n",
<<<<<<< HEAD
       "      <th>678942</th>\n",
       "      <td>1/4/2008</td>\n",
       "      <td>05:06:00</td>\n",
       "      <td>0.232</td>\n",
       "      <td>0.000</td>\n",
       "      <td>244.89</td>\n",
       "      <td>1.0</td>\n",
       "      <td>0.0</td>\n",
       "    </tr>\n",
       "    <tr>\n",
       "      <th>958441</th>\n",
       "      <td>12/10/2008</td>\n",
       "      <td>07:25:00</td>\n",
       "      <td>2.346</td>\n",
       "      <td>0.230</td>\n",
       "      <td>238.54</td>\n",
       "      <td>10.2</td>\n",
       "      <td>1.0</td>\n",
       "    </tr>\n",
       "    <tr>\n",
       "      <th>785643</th>\n",
       "      <td>14/6/2008</td>\n",
       "      <td>07:27:00</td>\n",
       "      <td>1.732</td>\n",
       "      <td>0.172</td>\n",
       "      <td>238.06</td>\n",
       "      <td>7.2</td>\n",
       "      <td>18.0</td>\n",
       "    </tr>\n",
       "    <tr>\n",
       "      <th>790785</th>\n",
       "      <td>17/6/2008</td>\n",
       "      <td>21:09:00</td>\n",
       "      <td>1.560</td>\n",
       "      <td>0.132</td>\n",
       "      <td>242.08</td>\n",
       "      <td>6.4</td>\n",
       "      <td>19.0</td>\n",
       "    </tr>\n",
       "    <tr>\n",
       "      <th>551388</th>\n",
       "      <td>3/1/2008</td>\n",
       "      <td>15:12:00</td>\n",
       "      <td>0.364</td>\n",
       "      <td>0.098</td>\n",
       "      <td>243.19</td>\n",
       "      <td>1.6</td>\n",
       "      <td>1.0</td>\n",
=======
       "      <th>803838</th>\n",
       "      <td>26/6/2008</td>\n",
       "      <td>22:42:00</td>\n",
       "      <td>0.222</td>\n",
       "      <td>0.000</td>\n",
       "      <td>241.12</td>\n",
       "      <td>1.0</td>\n",
       "      <td>1.0</td>\n",
       "    </tr>\n",
       "    <tr>\n",
       "      <th>656847</th>\n",
       "      <td>16/3/2008</td>\n",
       "      <td>20:51:00</td>\n",
       "      <td>2.694</td>\n",
       "      <td>0.180</td>\n",
       "      <td>237.63</td>\n",
       "      <td>11.4</td>\n",
       "      <td>19.0</td>\n",
       "    </tr>\n",
       "    <tr>\n",
       "      <th>790855</th>\n",
       "      <td>17/6/2008</td>\n",
       "      <td>22:19:00</td>\n",
       "      <td>2.120</td>\n",
       "      <td>0.290</td>\n",
       "      <td>241.99</td>\n",
       "      <td>8.8</td>\n",
       "      <td>20.0</td>\n",
       "    </tr>\n",
       "    <tr>\n",
       "      <th>799365</th>\n",
       "      <td>23/6/2008</td>\n",
       "      <td>20:09:00</td>\n",
       "      <td>1.298</td>\n",
       "      <td>0.072</td>\n",
       "      <td>239.25</td>\n",
       "      <td>5.4</td>\n",
       "      <td>18.0</td>\n",
       "    </tr>\n",
       "    <tr>\n",
       "      <th>632779</th>\n",
       "      <td>29/2/2008</td>\n",
       "      <td>03:43:00</td>\n",
       "      <td>0.298</td>\n",
       "      <td>0.100</td>\n",
       "      <td>241.69</td>\n",
       "      <td>1.2</td>\n",
       "      <td>2.0</td>\n",
>>>>>>> main
       "    </tr>\n",
       "  </tbody>\n",
       "</table>\n",
       "</div>"
      ],
      "text/plain": [
<<<<<<< HEAD
       "              date      time  global_active_power  global_reactive_power  \\\n",
       "678942    1/4/2008  05:06:00                0.232                  0.000   \n",
       "958441  12/10/2008  07:25:00                2.346                  0.230   \n",
       "785643   14/6/2008  07:27:00                1.732                  0.172   \n",
       "790785   17/6/2008  21:09:00                1.560                  0.132   \n",
       "551388    3/1/2008  15:12:00                0.364                  0.098   \n",
       "\n",
       "        voltage  global_intensity  global_consumption  \n",
       "678942   244.89               1.0                 0.0  \n",
       "958441   238.54              10.2                 1.0  \n",
       "785643   238.06               7.2                18.0  \n",
       "790785   242.08               6.4                19.0  \n",
       "551388   243.19               1.6                 1.0  "
      ]
     },
     "execution_count": 30,
=======
       "             date      time  global_active_power  global_reactive_power  \\\n",
       "803838  26/6/2008  22:42:00                0.222                  0.000   \n",
       "656847  16/3/2008  20:51:00                2.694                  0.180   \n",
       "790855  17/6/2008  22:19:00                2.120                  0.290   \n",
       "799365  23/6/2008  20:09:00                1.298                  0.072   \n",
       "632779  29/2/2008  03:43:00                0.298                  0.100   \n",
       "\n",
       "        voltage  global_intensity  global_consumption  \n",
       "803838   241.12               1.0                 1.0  \n",
       "656847   237.63              11.4                19.0  \n",
       "790855   241.99               8.8                20.0  \n",
       "799365   239.25               5.4                18.0  \n",
       "632779   241.69               1.2                 2.0  "
      ]
     },
     "execution_count": 57,
>>>>>>> main
     "metadata": {},
     "output_type": "execute_result"
    }
   ],
   "source": [
    "X_train.head()"
   ]
  },
  {
   "cell_type": "markdown",
   "metadata": {},
   "source": [
    "# 4. Train and save the pipeline"
   ]
  },
  {
   "cell_type": "code",
<<<<<<< HEAD
   "execution_count": 35,
=======
   "execution_count": 58,
   "metadata": {},
   "outputs": [],
   "source": [
    "# Function to save the pipeline locally\n",
    "def save_pipeline(pipeline: Pipeline = None,\n",
    "                  params: dict = None,\n",
    "                  metrics: dict = None) -> None:\n",
    "    \"\"\"\n",
    "    persist trained pipeline, params and metrics\n",
    "    \"\"\"\n",
    "\n",
    "    timestamp = time.strftime(\"%Y%m%d-%H%M%S\")\n",
    "\n",
    "    print(Fore.BLUE + \"\\nSave pipeline to local disk...\" + Style.RESET_ALL)\n",
    "\n",
    "    # save params\n",
    "    if params is not None:\n",
    "        params_path = os.path.join(LOCAL_REGISTRY_PATH, \"params\", timestamp + \".pickle\")\n",
    "        with open(params_path, \"wb\") as file:\n",
    "            pickle.dump(params, file)\n",
    "\n",
    "    # save metrics\n",
    "    if metrics is not None:\n",
    "        metrics_path = os.path.join(LOCAL_REGISTRY_PATH, \"metrics\", timestamp + \".pickle\")\n",
    "        with open(metrics_path, \"wb\") as file:\n",
    "            pickle.dump(metrics, file)\n",
    "\n",
    "    # save pipeline\n",
    "    if pipeline is not None:\n",
    "        pipeline_path = os.path.join(LOCAL_REGISTRY_PATH, \"models\", timestamp + \".joblib\")\n",
    "        dump(pipeline, pipeline_path)\n",
    "         \n",
    "    print(\"\\n✅ data saved locally\")\n",
    "\n",
    "    return None"
   ]
  },
  {
   "cell_type": "code",
   "execution_count": 59,
>>>>>>> main
   "metadata": {},
   "outputs": [
    {
     "name": "stdout",
     "output_type": "stream",
     "text": [
<<<<<<< HEAD
      "{'r2_score': 0.8996408001774764}\n",
=======
      "{'r2_score': 0.8967825564027994}\n",
>>>>>>> main
      "\u001b[34m\n",
      "Save pipeline to local disk...\u001b[0m\n",
      "\n",
      "✅ data saved locally\n",
<<<<<<< HEAD
      "CPU times: user 26.8 s, sys: 33.5 ms, total: 26.8 s\n",
      "Wall time: 26.8 s\n"
=======
      "CPU times: user 19.4 s, sys: 232 ms, total: 19.6 s\n",
      "Wall time: 19.7 s\n"
>>>>>>> main
     ]
    }
   ],
   "source": [
    "%%time\n",
    "\n",
    "# Fit the pipeline\n",
    "pipeline.fit(X_train, y_train)\n",
    "\n",
    "# Mesure its performance\n",
    "r2_score = pipeline.score(X_test, y_test)\n",
    "#r2_score = pipeline.score(X_test[['Voltage']].dropna(), y_test.dropna())\n",
    "\n",
    "# Save it locally\n",
    "params = dict(\n",
    "    # Model parameters\n",
    "    n_estimators=10,\n",
    "\n",
    "    # Package behavior\n",
    "    context=\"train\",\n",
    "\n",
    "    # Data used to fit\n",
    "    dataset_start=data.date.iloc[0],\n",
    "    dataset_end=data.date.iloc[-1]\n",
    ")\n",
    "\n",
    "metrics = dict(r2_score=r2_score)\n",
    "print(metrics)\n",
    "\n",
    "save_pipeline(pipeline, params, metrics, pipeline_type='room', local_registry_path=LOCAL_REGISTRY_PATH)"
   ]
  },
  {
   "cell_type": "markdown",
   "metadata": {},
   "source": [
    "# 5. Load the pipeline and try to predict"
   ]
  },
  {
   "cell_type": "code",
<<<<<<< HEAD
   "execution_count": null,
   "metadata": {},
   "outputs": [
    {
     "data": {
      "text/html": [
       "<style>#sk-container-id-1 {color: black;background-color: white;}#sk-container-id-1 pre{padding: 0;}#sk-container-id-1 div.sk-toggleable {background-color: white;}#sk-container-id-1 label.sk-toggleable__label {cursor: pointer;display: block;width: 100%;margin-bottom: 0;padding: 0.3em;box-sizing: border-box;text-align: center;}#sk-container-id-1 label.sk-toggleable__label-arrow:before {content: \"▸\";float: left;margin-right: 0.25em;color: #696969;}#sk-container-id-1 label.sk-toggleable__label-arrow:hover:before {color: black;}#sk-container-id-1 div.sk-estimator:hover label.sk-toggleable__label-arrow:before {color: black;}#sk-container-id-1 div.sk-toggleable__content {max-height: 0;max-width: 0;overflow: hidden;text-align: left;background-color: #f0f8ff;}#sk-container-id-1 div.sk-toggleable__content pre {margin: 0.2em;color: black;border-radius: 0.25em;background-color: #f0f8ff;}#sk-container-id-1 input.sk-toggleable__control:checked~div.sk-toggleable__content {max-height: 200px;max-width: 100%;overflow: auto;}#sk-container-id-1 input.sk-toggleable__control:checked~label.sk-toggleable__label-arrow:before {content: \"▾\";}#sk-container-id-1 div.sk-estimator input.sk-toggleable__control:checked~label.sk-toggleable__label {background-color: #d4ebff;}#sk-container-id-1 div.sk-label input.sk-toggleable__control:checked~label.sk-toggleable__label {background-color: #d4ebff;}#sk-container-id-1 input.sk-hidden--visually {border: 0;clip: rect(1px 1px 1px 1px);clip: rect(1px, 1px, 1px, 1px);height: 1px;margin: -1px;overflow: hidden;padding: 0;position: absolute;width: 1px;}#sk-container-id-1 div.sk-estimator {font-family: monospace;background-color: #f0f8ff;border: 1px dotted black;border-radius: 0.25em;box-sizing: border-box;margin-bottom: 0.5em;}#sk-container-id-1 div.sk-estimator:hover {background-color: #d4ebff;}#sk-container-id-1 div.sk-parallel-item::after {content: \"\";width: 100%;border-bottom: 1px solid gray;flex-grow: 1;}#sk-container-id-1 div.sk-label:hover label.sk-toggleable__label {background-color: #d4ebff;}#sk-container-id-1 div.sk-serial::before {content: \"\";position: absolute;border-left: 1px solid gray;box-sizing: border-box;top: 0;bottom: 0;left: 50%;z-index: 0;}#sk-container-id-1 div.sk-serial {display: flex;flex-direction: column;align-items: center;background-color: white;padding-right: 0.2em;padding-left: 0.2em;position: relative;}#sk-container-id-1 div.sk-item {position: relative;z-index: 1;}#sk-container-id-1 div.sk-parallel {display: flex;align-items: stretch;justify-content: center;background-color: white;position: relative;}#sk-container-id-1 div.sk-item::before, #sk-container-id-1 div.sk-parallel-item::before {content: \"\";position: absolute;border-left: 1px solid gray;box-sizing: border-box;top: 0;bottom: 0;left: 50%;z-index: -1;}#sk-container-id-1 div.sk-parallel-item {display: flex;flex-direction: column;z-index: 1;position: relative;background-color: white;}#sk-container-id-1 div.sk-parallel-item:first-child::after {align-self: flex-end;width: 50%;}#sk-container-id-1 div.sk-parallel-item:last-child::after {align-self: flex-start;width: 50%;}#sk-container-id-1 div.sk-parallel-item:only-child::after {width: 0;}#sk-container-id-1 div.sk-dashed-wrapped {border: 1px dashed gray;margin: 0 0.4em 0.5em 0.4em;box-sizing: border-box;padding-bottom: 0.4em;background-color: white;}#sk-container-id-1 div.sk-label label {font-family: monospace;font-weight: bold;display: inline-block;line-height: 1.2em;}#sk-container-id-1 div.sk-label-container {text-align: center;}#sk-container-id-1 div.sk-container {/* jupyter's `normalize.less` sets `[hidden] { display: none; }` but bootstrap.min.css set `[hidden] { display: none !important; }` so we also need the `!important` here to be able to override the default hidden behavior on the sphinx rendered scikit-learn.org. See: https://github.com/scikit-learn/scikit-learn/issues/21755 */display: inline-block !important;position: relative;}#sk-container-id-1 div.sk-text-repr-fallback {display: none;}</style><div id=\"sk-container-id-1\" class=\"sk-top-container\"><div class=\"sk-text-repr-fallback\"><pre>Pipeline(steps=[(&#x27;preparator&#x27;,\n",
       "                 ColumnTransformer(transformers=[(&#x27;imputer&#x27;,\n",
       "                                                  FunctionTransformer(func=&lt;function ffill_nan at 0x7f9c42089670&gt;),\n",
       "                                                  [&#x27;global_active_power&#x27;,\n",
       "                                                   &#x27;global_reactive_power&#x27;,\n",
       "                                                   &#x27;voltage&#x27;,\n",
       "                                                   &#x27;global_intensity&#x27;,\n",
       "                                                   &#x27;global_consumption&#x27;]),\n",
       "                                                 (&#x27;datetime_features_adder&#x27;,\n",
       "                                                  FunctionTransformer(func=&lt;function add_datetime_features at 0x7f9c42089700&gt;),\n",
       "                                                  [&#x27;date&#x27;, &#x27;time&#x27;])])),\n",
       "                (&#x27;std_scaler&#x27;, StandardScaler()),\n",
       "                (&#x27;estimator&#x27;, RandomForestRegressor(n_estimators=10))])</pre><b>In a Jupyter environment, please rerun this cell to show the HTML representation or trust the notebook. <br />On GitHub, the HTML representation is unable to render, please try loading this page with nbviewer.org.</b></div><div class=\"sk-container\" hidden><div class=\"sk-item sk-dashed-wrapped\"><div class=\"sk-label-container\"><div class=\"sk-label sk-toggleable\"><input class=\"sk-toggleable__control sk-hidden--visually\" id=\"sk-estimator-id-1\" type=\"checkbox\" ><label for=\"sk-estimator-id-1\" class=\"sk-toggleable__label sk-toggleable__label-arrow\">Pipeline</label><div class=\"sk-toggleable__content\"><pre>Pipeline(steps=[(&#x27;preparator&#x27;,\n",
       "                 ColumnTransformer(transformers=[(&#x27;imputer&#x27;,\n",
       "                                                  FunctionTransformer(func=&lt;function ffill_nan at 0x7f9c42089670&gt;),\n",
       "                                                  [&#x27;global_active_power&#x27;,\n",
       "                                                   &#x27;global_reactive_power&#x27;,\n",
       "                                                   &#x27;voltage&#x27;,\n",
       "                                                   &#x27;global_intensity&#x27;,\n",
       "                                                   &#x27;global_consumption&#x27;]),\n",
       "                                                 (&#x27;datetime_features_adder&#x27;,\n",
       "                                                  FunctionTransformer(func=&lt;function add_datetime_features at 0x7f9c42089700&gt;),\n",
       "                                                  [&#x27;date&#x27;, &#x27;time&#x27;])])),\n",
       "                (&#x27;std_scaler&#x27;, StandardScaler()),\n",
       "                (&#x27;estimator&#x27;, RandomForestRegressor(n_estimators=10))])</pre></div></div></div><div class=\"sk-serial\"><div class=\"sk-item sk-dashed-wrapped\"><div class=\"sk-label-container\"><div class=\"sk-label sk-toggleable\"><input class=\"sk-toggleable__control sk-hidden--visually\" id=\"sk-estimator-id-2\" type=\"checkbox\" ><label for=\"sk-estimator-id-2\" class=\"sk-toggleable__label sk-toggleable__label-arrow\">preparator: ColumnTransformer</label><div class=\"sk-toggleable__content\"><pre>ColumnTransformer(transformers=[(&#x27;imputer&#x27;,\n",
       "                                 FunctionTransformer(func=&lt;function ffill_nan at 0x7f9c42089670&gt;),\n",
       "                                 [&#x27;global_active_power&#x27;,\n",
       "                                  &#x27;global_reactive_power&#x27;, &#x27;voltage&#x27;,\n",
       "                                  &#x27;global_intensity&#x27;, &#x27;global_consumption&#x27;]),\n",
       "                                (&#x27;datetime_features_adder&#x27;,\n",
       "                                 FunctionTransformer(func=&lt;function add_datetime_features at 0x7f9c42089700&gt;),\n",
       "                                 [&#x27;date&#x27;, &#x27;time&#x27;])])</pre></div></div></div><div class=\"sk-parallel\"><div class=\"sk-parallel-item\"><div class=\"sk-item\"><div class=\"sk-label-container\"><div class=\"sk-label sk-toggleable\"><input class=\"sk-toggleable__control sk-hidden--visually\" id=\"sk-estimator-id-3\" type=\"checkbox\" ><label for=\"sk-estimator-id-3\" class=\"sk-toggleable__label sk-toggleable__label-arrow\">imputer</label><div class=\"sk-toggleable__content\"><pre>[&#x27;global_active_power&#x27;, &#x27;global_reactive_power&#x27;, &#x27;voltage&#x27;, &#x27;global_intensity&#x27;, &#x27;global_consumption&#x27;]</pre></div></div></div><div class=\"sk-serial\"><div class=\"sk-item\"><div class=\"sk-estimator sk-toggleable\"><input class=\"sk-toggleable__control sk-hidden--visually\" id=\"sk-estimator-id-4\" type=\"checkbox\" ><label for=\"sk-estimator-id-4\" class=\"sk-toggleable__label sk-toggleable__label-arrow\">FunctionTransformer</label><div class=\"sk-toggleable__content\"><pre>FunctionTransformer(func=&lt;function ffill_nan at 0x7f9c42089670&gt;)</pre></div></div></div></div></div></div><div class=\"sk-parallel-item\"><div class=\"sk-item\"><div class=\"sk-label-container\"><div class=\"sk-label sk-toggleable\"><input class=\"sk-toggleable__control sk-hidden--visually\" id=\"sk-estimator-id-5\" type=\"checkbox\" ><label for=\"sk-estimator-id-5\" class=\"sk-toggleable__label sk-toggleable__label-arrow\">datetime_features_adder</label><div class=\"sk-toggleable__content\"><pre>[&#x27;date&#x27;, &#x27;time&#x27;]</pre></div></div></div><div class=\"sk-serial\"><div class=\"sk-item\"><div class=\"sk-estimator sk-toggleable\"><input class=\"sk-toggleable__control sk-hidden--visually\" id=\"sk-estimator-id-6\" type=\"checkbox\" ><label for=\"sk-estimator-id-6\" class=\"sk-toggleable__label sk-toggleable__label-arrow\">FunctionTransformer</label><div class=\"sk-toggleable__content\"><pre>FunctionTransformer(func=&lt;function add_datetime_features at 0x7f9c42089700&gt;)</pre></div></div></div></div></div></div></div></div><div class=\"sk-item\"><div class=\"sk-estimator sk-toggleable\"><input class=\"sk-toggleable__control sk-hidden--visually\" id=\"sk-estimator-id-7\" type=\"checkbox\" ><label for=\"sk-estimator-id-7\" class=\"sk-toggleable__label sk-toggleable__label-arrow\">StandardScaler</label><div class=\"sk-toggleable__content\"><pre>StandardScaler()</pre></div></div></div><div class=\"sk-item\"><div class=\"sk-estimator sk-toggleable\"><input class=\"sk-toggleable__control sk-hidden--visually\" id=\"sk-estimator-id-8\" type=\"checkbox\" ><label for=\"sk-estimator-id-8\" class=\"sk-toggleable__label sk-toggleable__label-arrow\">RandomForestRegressor</label><div class=\"sk-toggleable__content\"><pre>RandomForestRegressor(n_estimators=10)</pre></div></div></div></div></div></div></div>"
      ],
      "text/plain": [
       "Pipeline(steps=[('preparator',\n",
       "                 ColumnTransformer(transformers=[('imputer',\n",
       "                                                  FunctionTransformer(func=<function ffill_nan at 0x7f9c42089670>),\n",
       "                                                  ['global_active_power',\n",
       "                                                   'global_reactive_power',\n",
       "                                                   'voltage',\n",
       "                                                   'global_intensity',\n",
       "                                                   'global_consumption']),\n",
       "                                                 ('datetime_features_adder',\n",
       "                                                  FunctionTransformer(func=<function add_datetime_features at 0x7f9c42089700>),\n",
       "                                                  ['date', 'time'])])),\n",
       "                ('std_scaler', StandardScaler()),\n",
       "                ('estimator', RandomForestRegressor(n_estimators=10))])"
      ]
     },
     "execution_count": 8,
     "metadata": {},
     "output_type": "execute_result"
    }
   ],
   "source": [
    "# # To load a specific local pipeline\n",
    "# pipeline_path = os.path.join(LOCAL_REGISTRY_PATH, \"models\", \"20221125-145338.joblib\")\n",
=======
   "execution_count": 60,
   "metadata": {},
   "outputs": [],
   "source": [
    "# pipeline_path = os.path.join(LOCAL_REGISTRY_PATH, \"models\", \"20221123-170451.joblib\")\n",
>>>>>>> main
    "# pipeline_loaded = load(pipeline_path)\n",
    "# pipeline_loaded"
   ]
  },
  {
   "cell_type": "code",
<<<<<<< HEAD
   "execution_count": null,
   "metadata": {},
   "outputs": [
    {
     "data": {
      "text/html": [
       "<div>\n",
       "<style scoped>\n",
       "    .dataframe tbody tr th:only-of-type {\n",
       "        vertical-align: middle;\n",
       "    }\n",
       "\n",
       "    .dataframe tbody tr th {\n",
       "        vertical-align: top;\n",
       "    }\n",
       "\n",
       "    .dataframe thead th {\n",
       "        text-align: right;\n",
       "    }\n",
       "</style>\n",
       "<table border=\"1\" class=\"dataframe\">\n",
       "  <thead>\n",
       "    <tr style=\"text-align: right;\">\n",
       "      <th></th>\n",
       "      <th>date</th>\n",
       "      <th>time</th>\n",
       "      <th>global_active_power</th>\n",
       "      <th>global_reactive_power</th>\n",
       "      <th>voltage</th>\n",
       "      <th>global_intensity</th>\n",
       "      <th>global_consumption</th>\n",
       "    </tr>\n",
       "  </thead>\n",
       "  <tbody>\n",
       "    <tr>\n",
       "      <th>615865</th>\n",
       "      <td>17/2/2008</td>\n",
       "      <td>09:49:00</td>\n",
       "      <td>0.328</td>\n",
       "      <td>0.084</td>\n",
       "      <td>241.42</td>\n",
       "      <td>1.4</td>\n",
       "      <td>0.0</td>\n",
       "    </tr>\n",
       "    <tr>\n",
       "      <th>708123</th>\n",
       "      <td>21/4/2008</td>\n",
       "      <td>11:27:00</td>\n",
       "      <td>0.428</td>\n",
       "      <td>0.234</td>\n",
       "      <td>243.73</td>\n",
       "      <td>2.0</td>\n",
       "      <td>1.0</td>\n",
       "    </tr>\n",
       "    <tr>\n",
       "      <th>574278</th>\n",
       "      <td>19/1/2008</td>\n",
       "      <td>12:42:00</td>\n",
       "      <td>5.284</td>\n",
       "      <td>0.370</td>\n",
       "      <td>237.17</td>\n",
       "      <td>22.2</td>\n",
       "      <td>75.0</td>\n",
       "    </tr>\n",
       "    <tr>\n",
       "      <th>1006275</th>\n",
       "      <td>14/11/2008</td>\n",
       "      <td>12:39:00</td>\n",
       "      <td>1.878</td>\n",
       "      <td>0.158</td>\n",
       "      <td>240.52</td>\n",
       "      <td>8.0</td>\n",
       "      <td>18.0</td>\n",
       "    </tr>\n",
       "    <tr>\n",
       "      <th>890022</th>\n",
       "      <td>25/8/2008</td>\n",
       "      <td>19:06:00</td>\n",
       "      <td>0.158</td>\n",
       "      <td>0.138</td>\n",
       "      <td>239.53</td>\n",
       "      <td>0.8</td>\n",
       "      <td>3.0</td>\n",
       "    </tr>\n",
       "    <tr>\n",
       "      <th>...</th>\n",
       "      <td>...</td>\n",
       "      <td>...</td>\n",
       "      <td>...</td>\n",
       "      <td>...</td>\n",
       "      <td>...</td>\n",
       "      <td>...</td>\n",
       "      <td>...</td>\n",
       "    </tr>\n",
       "    <tr>\n",
       "      <th>1025789</th>\n",
       "      <td>28/11/2008</td>\n",
       "      <td>01:53:00</td>\n",
       "      <td>0.212</td>\n",
       "      <td>0.046</td>\n",
       "      <td>243.87</td>\n",
       "      <td>0.8</td>\n",
       "      <td>0.0</td>\n",
       "    </tr>\n",
       "    <tr>\n",
       "      <th>936857</th>\n",
       "      <td>27/9/2008</td>\n",
       "      <td>07:41:00</td>\n",
       "      <td>1.872</td>\n",
       "      <td>0.000</td>\n",
       "      <td>240.17</td>\n",
       "      <td>7.8</td>\n",
       "      <td>19.0</td>\n",
       "    </tr>\n",
       "    <tr>\n",
       "      <th>817277</th>\n",
       "      <td>6/7/2008</td>\n",
       "      <td>06:41:00</td>\n",
       "      <td>1.476</td>\n",
       "      <td>0.332</td>\n",
       "      <td>241.00</td>\n",
       "      <td>6.2</td>\n",
       "      <td>20.0</td>\n",
       "    </tr>\n",
       "    <tr>\n",
       "      <th>814184</th>\n",
       "      <td>4/7/2008</td>\n",
       "      <td>03:08:00</td>\n",
       "      <td>0.270</td>\n",
       "      <td>0.138</td>\n",
       "      <td>240.68</td>\n",
       "      <td>1.4</td>\n",
       "      <td>1.0</td>\n",
       "    </tr>\n",
       "    <tr>\n",
       "      <th>863495</th>\n",
       "      <td>7/8/2008</td>\n",
       "      <td>08:59:00</td>\n",
       "      <td>0.080</td>\n",
       "      <td>0.000</td>\n",
       "      <td>239.16</td>\n",
       "      <td>0.2</td>\n",
       "      <td>0.0</td>\n",
       "    </tr>\n",
       "  </tbody>\n",
       "</table>\n",
       "<p>158112 rows × 7 columns</p>\n",
       "</div>"
      ],
      "text/plain": [
       "               date      time  global_active_power  global_reactive_power  \\\n",
       "615865    17/2/2008  09:49:00                0.328                  0.084   \n",
       "708123    21/4/2008  11:27:00                0.428                  0.234   \n",
       "574278    19/1/2008  12:42:00                5.284                  0.370   \n",
       "1006275  14/11/2008  12:39:00                1.878                  0.158   \n",
       "890022    25/8/2008  19:06:00                0.158                  0.138   \n",
       "...             ...       ...                  ...                    ...   \n",
       "1025789  28/11/2008  01:53:00                0.212                  0.046   \n",
       "936857    27/9/2008  07:41:00                1.872                  0.000   \n",
       "817277     6/7/2008  06:41:00                1.476                  0.332   \n",
       "814184     4/7/2008  03:08:00                0.270                  0.138   \n",
       "863495     7/8/2008  08:59:00                0.080                  0.000   \n",
       "\n",
       "         voltage  global_intensity  global_consumption  \n",
       "615865    241.42               1.4                 0.0  \n",
       "708123    243.73               2.0                 1.0  \n",
       "574278    237.17              22.2                75.0  \n",
       "1006275   240.52               8.0                18.0  \n",
       "890022    239.53               0.8                 3.0  \n",
       "...          ...               ...                 ...  \n",
       "1025789   243.87               0.8                 0.0  \n",
       "936857    240.17               7.8                19.0  \n",
       "817277    241.00               6.2                20.0  \n",
       "814184    240.68               1.4                 1.0  \n",
       "863495    239.16               0.2                 0.0  \n",
       "\n",
       "[158112 rows x 7 columns]"
      ]
     },
     "execution_count": 9,
     "metadata": {},
     "output_type": "execute_result"
    }
   ],
=======
   "execution_count": 61,
   "metadata": {},
   "outputs": [],
>>>>>>> main
   "source": [
    "# X_test"
   ]
  },
  {
   "cell_type": "code",
<<<<<<< HEAD
   "execution_count": null,
   "metadata": {},
   "outputs": [
    {
     "data": {
      "text/html": [
       "<div>\n",
       "<style scoped>\n",
       "    .dataframe tbody tr th:only-of-type {\n",
       "        vertical-align: middle;\n",
       "    }\n",
       "\n",
       "    .dataframe tbody tr th {\n",
       "        vertical-align: top;\n",
       "    }\n",
       "\n",
       "    .dataframe thead th {\n",
       "        text-align: right;\n",
       "    }\n",
       "</style>\n",
       "<table border=\"1\" class=\"dataframe\">\n",
       "  <thead>\n",
       "    <tr style=\"text-align: right;\">\n",
       "      <th></th>\n",
       "      <th>sub_metering_1</th>\n",
       "      <th>sub_metering_2</th>\n",
       "      <th>sub_metering_3</th>\n",
       "      <th>datetime</th>\n",
       "    </tr>\n",
       "  </thead>\n",
       "  <tbody>\n",
       "    <tr>\n",
       "      <th>0</th>\n",
       "      <td>0.0</td>\n",
       "      <td>0.0</td>\n",
       "      <td>0.0</td>\n",
       "      <td>2008-02-17 09:49:00</td>\n",
       "    </tr>\n",
       "    <tr>\n",
       "      <th>1</th>\n",
       "      <td>0.0</td>\n",
       "      <td>0.0</td>\n",
       "      <td>1.0</td>\n",
       "      <td>2008-04-21 11:27:00</td>\n",
       "    </tr>\n",
       "    <tr>\n",
       "      <th>2</th>\n",
       "      <td>37.6</td>\n",
       "      <td>37.4</td>\n",
       "      <td>0.0</td>\n",
       "      <td>2008-01-19 12:42:00</td>\n",
       "    </tr>\n",
       "    <tr>\n",
       "      <th>3</th>\n",
       "      <td>0.1</td>\n",
       "      <td>0.0</td>\n",
       "      <td>17.9</td>\n",
       "      <td>2008-11-14 12:39:00</td>\n",
       "    </tr>\n",
       "    <tr>\n",
       "      <th>4</th>\n",
       "      <td>0.0</td>\n",
       "      <td>2.0</td>\n",
       "      <td>1.0</td>\n",
       "      <td>2008-08-25 19:06:00</td>\n",
       "    </tr>\n",
       "    <tr>\n",
       "      <th>...</th>\n",
       "      <td>...</td>\n",
       "      <td>...</td>\n",
       "      <td>...</td>\n",
       "      <td>...</td>\n",
       "    </tr>\n",
       "    <tr>\n",
       "      <th>158107</th>\n",
       "      <td>0.0</td>\n",
       "      <td>0.0</td>\n",
       "      <td>0.0</td>\n",
       "      <td>2008-11-28 01:53:00</td>\n",
       "    </tr>\n",
       "    <tr>\n",
       "      <th>158108</th>\n",
       "      <td>0.2</td>\n",
       "      <td>0.0</td>\n",
       "      <td>18.8</td>\n",
       "      <td>2008-09-27 07:41:00</td>\n",
       "    </tr>\n",
       "    <tr>\n",
       "      <th>158109</th>\n",
       "      <td>0.0</td>\n",
       "      <td>1.3</td>\n",
       "      <td>18.7</td>\n",
       "      <td>2008-07-06 06:41:00</td>\n",
       "    </tr>\n",
       "    <tr>\n",
       "      <th>158110</th>\n",
       "      <td>0.0</td>\n",
       "      <td>0.1</td>\n",
       "      <td>0.9</td>\n",
       "      <td>2008-07-04 03:08:00</td>\n",
       "    </tr>\n",
       "    <tr>\n",
       "      <th>158111</th>\n",
       "      <td>0.0</td>\n",
       "      <td>0.0</td>\n",
       "      <td>0.0</td>\n",
       "      <td>2008-08-07 08:59:00</td>\n",
       "    </tr>\n",
       "  </tbody>\n",
       "</table>\n",
       "<p>158112 rows × 4 columns</p>\n",
       "</div>"
      ],
      "text/plain": [
       "        sub_metering_1  sub_metering_2  sub_metering_3            datetime\n",
       "0                  0.0             0.0             0.0 2008-02-17 09:49:00\n",
       "1                  0.0             0.0             1.0 2008-04-21 11:27:00\n",
       "2                 37.6            37.4             0.0 2008-01-19 12:42:00\n",
       "3                  0.1             0.0            17.9 2008-11-14 12:39:00\n",
       "4                  0.0             2.0             1.0 2008-08-25 19:06:00\n",
       "...                ...             ...             ...                 ...\n",
       "158107             0.0             0.0             0.0 2008-11-28 01:53:00\n",
       "158108             0.2             0.0            18.8 2008-09-27 07:41:00\n",
       "158109             0.0             1.3            18.7 2008-07-06 06:41:00\n",
       "158110             0.0             0.1             0.9 2008-07-04 03:08:00\n",
       "158111             0.0             0.0             0.0 2008-08-07 08:59:00\n",
       "\n",
       "[158112 rows x 4 columns]"
      ]
     },
     "execution_count": 14,
     "metadata": {},
     "output_type": "execute_result"
    }
   ],
   "source": [
    "# y_pred = pd.DataFrame(pipeline_loaded.predict(X_test), columns=labels)\n",
    "# y_pred['datetime'] = pd.to_datetime(X_test['date'] + ' ' + X_test['time'], \n",
    "#                                     format=\"%d/%m/%Y %H:%M:%S\"\n",
    "#                                     ).reset_index(drop=True)\n",
    "# y_pred"
   ]
  },
  {
   "cell_type": "code",
   "execution_count": null,
   "metadata": {},
   "outputs": [
    {
     "name": "stdout",
     "output_type": "stream",
     "text": [
      "../data/input_datasets/y_pred_2008.csv\n"
     ]
    }
   ],
   "source": [
    "# LOCAL_DATASET_PATH = \"../data/input_datasets\"\n",
    "\n",
    "# file_name = f\"y_pred_2008.csv\"\n",
    "# file_path = os.path.join(LOCAL_DATASET_PATH, file_name)\n",
    "# print(file_path)\n",
    "# y_pred.to_csv(file_path, sep=',', encoding='utf-8', index=False)"
=======
   "execution_count": 62,
   "metadata": {},
   "outputs": [],
   "source": [
    "# y_pred = pd.DataFrame(pipeline_loaded.predict(X_test), columns=labels)\n",
    "# y_pred['datetime'] = pd.to_datetime(X_test['date'] + ' ' + X_test['time'])\n",
    "# y_pred"
>>>>>>> main
   ]
  }
 ],
 "metadata": {
  "kernelspec": {
   "display_name": "Python 3.8.12 64-bit ('decipherer-env')",
   "language": "python",
   "name": "python3"
  },
  "language_info": {
   "codemirror_mode": {
    "name": "ipython",
    "version": 3
   },
   "file_extension": ".py",
   "mimetype": "text/x-python",
   "name": "python",
   "nbconvert_exporter": "python",
   "pygments_lexer": "ipython3",
   "version": "3.8.12"
  },
  "orig_nbformat": 4,
  "vscode": {
   "interpreter": {
    "hash": "bc35e23fd734f125df582cdaf3d951c7615e4ac49ca032f361e6a527d796f73f"
   }
  }
 },
 "nbformat": 4,
 "nbformat_minor": 2
}
