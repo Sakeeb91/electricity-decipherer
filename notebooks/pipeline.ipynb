{
 "cells": [
  {
   "cell_type": "markdown",
   "metadata": {},
   "source": [
    "# 0. Imports"
   ]
  },
  {
   "cell_type": "code",
   "execution_count": 16,
   "metadata": {},
   "outputs": [],
   "source": [
    "import pandas as pd\n",
    "import numpy as np\n",
    "import datetime as dt\n",
    "import time\n",
    "import os"
   ]
  },
  {
   "cell_type": "markdown",
   "metadata": {},
   "source": [
    "# 1. Prepare training data"
   ]
  },
  {
   "cell_type": "code",
   "execution_count": 9,
   "metadata": {},
   "outputs": [
    {
     "name": "stdout",
     "output_type": "stream",
     "text": [
      "<class 'pandas.core.frame.DataFrame'>\n",
      "Int64Index: 527040 entries, 547596 to 1074635\n",
      "Data columns (total 9 columns):\n",
      " #   Column                 Non-Null Count   Dtype  \n",
      "---  ------                 --------------   -----  \n",
      " 0   Date                   527040 non-null  object \n",
      " 1   Time                   527040 non-null  object \n",
      " 2   Global_active_power    526905 non-null  float64\n",
      " 3   Global_reactive_power  526905 non-null  float64\n",
      " 4   Voltage                526905 non-null  float64\n",
      " 5   Global_intensity       526905 non-null  float64\n",
      " 6   Sub_metering_1         526905 non-null  float64\n",
      " 7   Sub_metering_2         526905 non-null  float64\n",
      " 8   Sub_metering_3         526905 non-null  float64\n",
      "dtypes: float64(7), object(2)\n",
      "memory usage: 40.2+ MB\n"
     ]
    }
   ],
   "source": [
    "# Take just a subset of the data for now (year==2008)\n",
    "data = pd.read_csv('../data/household_power_consumption.txt', sep=';', na_values='?')\n",
    "data = data[data.Date.str.endswith('2008')]\n",
    "data.info()"
   ]
  },
  {
   "cell_type": "code",
   "execution_count": 10,
   "metadata": {},
   "outputs": [
    {
     "data": {
      "text/plain": [
       "((527040, 6), (527040, 3))"
      ]
     },
     "execution_count": 10,
     "metadata": {},
     "output_type": "execute_result"
    }
   ],
   "source": [
    "# Create X, y and save datetime in a separeted column\n",
    "labels = ['Sub_metering_1', 'Sub_metering_2', 'Sub_metering_3']\n",
    "X = data.drop(columns=labels)\n",
    "y = data[labels]\n",
    "X.shape, y.shape"
   ]
  },
  {
   "cell_type": "code",
   "execution_count": 11,
   "metadata": {},
   "outputs": [
    {
     "data": {
      "text/html": [
       "<div>\n",
       "<style scoped>\n",
       "    .dataframe tbody tr th:only-of-type {\n",
       "        vertical-align: middle;\n",
       "    }\n",
       "\n",
       "    .dataframe tbody tr th {\n",
       "        vertical-align: top;\n",
       "    }\n",
       "\n",
       "    .dataframe thead th {\n",
       "        text-align: right;\n",
       "    }\n",
       "</style>\n",
       "<table border=\"1\" class=\"dataframe\">\n",
       "  <thead>\n",
       "    <tr style=\"text-align: right;\">\n",
       "      <th></th>\n",
       "      <th>Date</th>\n",
       "      <th>Time</th>\n",
       "      <th>Global_active_power</th>\n",
       "      <th>Global_reactive_power</th>\n",
       "      <th>Voltage</th>\n",
       "      <th>Global_intensity</th>\n",
       "    </tr>\n",
       "  </thead>\n",
       "  <tbody>\n",
       "    <tr>\n",
       "      <th>547596</th>\n",
       "      <td>1/1/2008</td>\n",
       "      <td>00:00:00</td>\n",
       "      <td>1.620</td>\n",
       "      <td>0.070</td>\n",
       "      <td>241.25</td>\n",
       "      <td>6.6</td>\n",
       "    </tr>\n",
       "    <tr>\n",
       "      <th>547597</th>\n",
       "      <td>1/1/2008</td>\n",
       "      <td>00:01:00</td>\n",
       "      <td>1.626</td>\n",
       "      <td>0.072</td>\n",
       "      <td>241.74</td>\n",
       "      <td>6.6</td>\n",
       "    </tr>\n",
       "    <tr>\n",
       "      <th>547598</th>\n",
       "      <td>1/1/2008</td>\n",
       "      <td>00:02:00</td>\n",
       "      <td>1.622</td>\n",
       "      <td>0.072</td>\n",
       "      <td>241.52</td>\n",
       "      <td>6.6</td>\n",
       "    </tr>\n",
       "    <tr>\n",
       "      <th>547599</th>\n",
       "      <td>1/1/2008</td>\n",
       "      <td>00:03:00</td>\n",
       "      <td>1.612</td>\n",
       "      <td>0.070</td>\n",
       "      <td>240.82</td>\n",
       "      <td>6.6</td>\n",
       "    </tr>\n",
       "    <tr>\n",
       "      <th>547600</th>\n",
       "      <td>1/1/2008</td>\n",
       "      <td>00:04:00</td>\n",
       "      <td>1.612</td>\n",
       "      <td>0.070</td>\n",
       "      <td>240.80</td>\n",
       "      <td>6.6</td>\n",
       "    </tr>\n",
       "  </tbody>\n",
       "</table>\n",
       "</div>"
      ],
      "text/plain": [
       "            Date      Time  Global_active_power  Global_reactive_power  \\\n",
       "547596  1/1/2008  00:00:00                1.620                  0.070   \n",
       "547597  1/1/2008  00:01:00                1.626                  0.072   \n",
       "547598  1/1/2008  00:02:00                1.622                  0.072   \n",
       "547599  1/1/2008  00:03:00                1.612                  0.070   \n",
       "547600  1/1/2008  00:04:00                1.612                  0.070   \n",
       "\n",
       "        Voltage  Global_intensity  \n",
       "547596   241.25               6.6  \n",
       "547597   241.74               6.6  \n",
       "547598   241.52               6.6  \n",
       "547599   240.82               6.6  \n",
       "547600   240.80               6.6  "
      ]
     },
     "execution_count": 11,
     "metadata": {},
     "output_type": "execute_result"
    }
   ],
   "source": [
    "X.head()"
   ]
  },
  {
   "cell_type": "code",
   "execution_count": 12,
   "metadata": {},
   "outputs": [
    {
     "data": {
      "text/html": [
       "<div>\n",
       "<style scoped>\n",
       "    .dataframe tbody tr th:only-of-type {\n",
       "        vertical-align: middle;\n",
       "    }\n",
       "\n",
       "    .dataframe tbody tr th {\n",
       "        vertical-align: top;\n",
       "    }\n",
       "\n",
       "    .dataframe thead th {\n",
       "        text-align: right;\n",
       "    }\n",
       "</style>\n",
       "<table border=\"1\" class=\"dataframe\">\n",
       "  <thead>\n",
       "    <tr style=\"text-align: right;\">\n",
       "      <th></th>\n",
       "      <th>Sub_metering_1</th>\n",
       "      <th>Sub_metering_2</th>\n",
       "      <th>Sub_metering_3</th>\n",
       "    </tr>\n",
       "  </thead>\n",
       "  <tbody>\n",
       "    <tr>\n",
       "      <th>547596</th>\n",
       "      <td>0.0</td>\n",
       "      <td>0.0</td>\n",
       "      <td>18.0</td>\n",
       "    </tr>\n",
       "    <tr>\n",
       "      <th>547597</th>\n",
       "      <td>0.0</td>\n",
       "      <td>0.0</td>\n",
       "      <td>18.0</td>\n",
       "    </tr>\n",
       "    <tr>\n",
       "      <th>547598</th>\n",
       "      <td>0.0</td>\n",
       "      <td>0.0</td>\n",
       "      <td>18.0</td>\n",
       "    </tr>\n",
       "    <tr>\n",
       "      <th>547599</th>\n",
       "      <td>0.0</td>\n",
       "      <td>0.0</td>\n",
       "      <td>18.0</td>\n",
       "    </tr>\n",
       "    <tr>\n",
       "      <th>547600</th>\n",
       "      <td>0.0</td>\n",
       "      <td>0.0</td>\n",
       "      <td>18.0</td>\n",
       "    </tr>\n",
       "  </tbody>\n",
       "</table>\n",
       "</div>"
      ],
      "text/plain": [
       "        Sub_metering_1  Sub_metering_2  Sub_metering_3\n",
       "547596             0.0             0.0            18.0\n",
       "547597             0.0             0.0            18.0\n",
       "547598             0.0             0.0            18.0\n",
       "547599             0.0             0.0            18.0\n",
       "547600             0.0             0.0            18.0"
      ]
     },
     "execution_count": 12,
     "metadata": {},
     "output_type": "execute_result"
    }
   ],
   "source": [
    "y.head()"
   ]
  },
  {
   "cell_type": "markdown",
   "metadata": {},
   "source": [
    "# 2. Building preprocessor"
   ]
  },
  {
   "cell_type": "code",
   "execution_count": null,
   "metadata": {},
   "outputs": [],
   "source": [
    "# Get rid of nan values"
   ]
  },
  {
   "cell_type": "code",
   "execution_count": null,
   "metadata": {},
   "outputs": [],
   "source": [
    "# Create \"global_consumption\""
   ]
  },
  {
   "cell_type": "code",
   "execution_count": null,
   "metadata": {},
   "outputs": [],
   "source": [
    "# Handle datetime format"
   ]
  },
  {
   "cell_type": "code",
   "execution_count": 13,
   "metadata": {},
   "outputs": [],
   "source": [
    "# Create new datetime features"
   ]
  },
  {
   "cell_type": "code",
   "execution_count": 14,
   "metadata": {},
   "outputs": [],
   "source": [
    "# Standard scaler "
   ]
  },
  {
   "cell_type": "code",
   "execution_count": null,
   "metadata": {},
   "outputs": [],
   "source": [
    "# Build final preprocessor\n",
    "preprocessor = ..."
   ]
  },
  {
   "cell_type": "markdown",
   "metadata": {},
   "source": [
    "# 3. Building the estimator (model)"
   ]
  },
  {
   "cell_type": "code",
   "execution_count": null,
   "metadata": {},
   "outputs": [],
   "source": [
    "# Random forest model\n",
    "estimator = ..."
   ]
  },
  {
   "cell_type": "markdown",
   "metadata": {},
   "source": [
    "# 4. Building the whole pipeline and save it"
   ]
  },
  {
   "cell_type": "code",
   "execution_count": 15,
   "metadata": {},
   "outputs": [],
   "source": [
    "# Wrap everything in a pipeline\n",
    "from sklearn.pipeline import Pipeline\n",
    "pipeline = Pipeline(\n",
    "    ('preprocessor', preprocessor),\n",
    "    ('estimator', estimator) \n",
    ")"
   ]
  },
  {
   "cell_type": "code",
   "execution_count": null,
   "metadata": {},
   "outputs": [],
   "source": [
    "# Save the pipeline locally\n",
    "def save_pipeline(pipeline: Pipeline = None,\n",
    "                  params: dict = None,\n",
    "                  metrics: dict = None) -> None:\n",
    "    \"\"\"\n",
    "    persist trained pipeline, params and metrics\n",
    "    \"\"\"\n",
    "\n",
    "    timestamp = time.strftime(\"%Y%m%d-%H%M%S\")\n",
    "\n",
    "    if os.environ.get(\"MODEL_TARGET\") == \"mlflow\":\n",
    "\n",
    "        # retrieve mlflow env params\n",
    "        mlflow_tracking_uri = os.environ.get(\"MLFLOW_TRACKING_URI\")\n",
    "        mlflow_experiment = os.environ.get(\"MLFLOW_EXPERIMENT\")\n",
    "        mlflow_model_name = os.environ.get(\"MLFLOW_MODEL_NAME\")\n",
    "\n",
    "        # configure mlflow\n",
    "        mlflow.set_tracking_uri(mlflow_tracking_uri)\n",
    "        mlflow.set_experiment(experiment_name=mlflow_experiment)\n",
    "\n",
    "        with mlflow.start_run():\n",
    "\n",
    "            # STEP 1: push parameters to mlflow\n",
    "            if params is not None:\n",
    "                mlflow.log_params(params)\n",
    "\n",
    "            # STEP 2: push metrics to mlflow\n",
    "            if metrics is not None:\n",
    "                mlflow.log_metrics(metrics)\n",
    "\n",
    "            # STEP 3: push model to mlflow\n",
    "            if model is not None:\n",
    "\n",
    "                mlflow.keras.log_model(keras_model=model,\n",
    "                                       artifact_path=\"model\",\n",
    "                                       keras_module=\"tensorflow.keras\",\n",
    "                                       registered_model_name=mlflow_model_name)\n",
    "\n",
    "        print(\"\\n✅ data saved to mlflow\")\n",
    "\n",
    "        return None\n",
    "\n",
    "    print(Fore.BLUE + \"\\nSave model to local disk...\" + Style.RESET_ALL)\n",
    "\n",
    "    # save params\n",
    "    if params is not None:\n",
    "        params_path = os.path.join(LOCAL_REGISTRY_PATH, \"params\", timestamp + \".pickle\")\n",
    "        print(f\"- params path: {params_path}\")\n",
    "        with open(params_path, \"wb\") as file:\n",
    "            pickle.dump(params, file)\n",
    "\n",
    "    # save metrics\n",
    "    if metrics is not None:\n",
    "        metrics_path = os.path.join(LOCAL_REGISTRY_PATH, \"metrics\", timestamp + \".pickle\")\n",
    "        print(f\"- metrics path: {metrics_path}\")\n",
    "        with open(metrics_path, \"wb\") as file:\n",
    "            pickle.dump(metrics, file)\n",
    "\n",
    "    # save model\n",
    "    if model is not None:\n",
    "        model_path = os.path.join(LOCAL_REGISTRY_PATH, \"models\", timestamp)\n",
    "        print(f\"- model path: {model_path}\")\n",
    "        model.save(model_path)\n",
    "\n",
    "    print(\"\\n✅ data saved locally\")\n",
    "\n",
    "    return None"
   ]
  },
  {
   "cell_type": "code",
   "execution_count": null,
   "metadata": {},
   "outputs": [],
   "source": [
    "params = {}\n",
    "\n",
    "metrics = {}\n",
    "\n",
    "save_pipeline(pipeline, params, metrics)"
   ]
  }
 ],
 "metadata": {
  "kernelspec": {
   "display_name": "Python 3.8.12 64-bit ('shims')",
   "language": "python",
   "name": "python3"
  },
  "language_info": {
   "codemirror_mode": {
    "name": "ipython",
    "version": 3
   },
   "file_extension": ".py",
   "mimetype": "text/x-python",
   "name": "python",
   "nbconvert_exporter": "python",
   "pygments_lexer": "ipython3",
   "version": "3.8.12"
  },
  "orig_nbformat": 4,
  "vscode": {
   "interpreter": {
    "hash": "e588d92b224e11b16adbbadd39936dea13a6488171770263a646fc57f44563d8"
   }
  }
 },
 "nbformat": 4,
 "nbformat_minor": 2
}
