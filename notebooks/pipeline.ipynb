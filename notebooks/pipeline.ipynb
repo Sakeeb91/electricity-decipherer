{
 "cells": [
  {
   "cell_type": "markdown",
   "metadata": {},
   "source": [
    "# 0. Imports"
   ]
  },
  {
   "cell_type": "code",
   "execution_count": 190,
   "metadata": {},
   "outputs": [],
   "source": [
    "# imports\n",
    "import pandas as pd\n",
    "import numpy as np\n",
    "import datetime as dt\n",
    "import time\n",
    "import os\n",
    "import pickle\n",
    "\n",
    "from colorama import Fore, Style\n",
    "from sklearn.pipeline import Pipeline\n",
    "from joblib import dump, load\n",
    "\n",
    "from sklearn.ensemble import RandomForestRegressor\n",
    "from sklearn.preprocessing import FunctionTransformer, StandardScaler\n",
    "from sklearn.compose import ColumnTransformer\n",
    "from sklearn.model_selection import train_test_split"
   ]
  },
  {
   "cell_type": "code",
   "execution_count": 191,
   "metadata": {},
   "outputs": [],
   "source": [
    "# environment variables\n",
    "LOCAL_REGISTRY_PATH = \"../training_outputs\""
   ]
  },
  {
   "cell_type": "markdown",
   "metadata": {},
   "source": [
    "# 1. Build pipeline"
   ]
  },
  {
   "cell_type": "code",
   "execution_count": 192,
   "metadata": {},
   "outputs": [],
   "source": [
    "# Get rid of nan values using ffil\n",
    "def ffill_nan(X):\n",
    "    return X.fillna(method='ffill', axis = 0)"
   ]
  },
  {
   "cell_type": "code",
   "execution_count": 207,
   "metadata": {},
   "outputs": [],
   "source": [
    "# Create new datetime features\n",
    "def add_datetime_features(X):\n",
    "    \n",
    "    # Copy X to avoid pandas warning\n",
    "    X_rep = X.copy()\n",
    "    \n",
    "    # Handle datetime format\n",
    "    datetime = pd.to_datetime(X_rep['date'] + ' ' + X_rep['time'])\n",
    "    \n",
    "    # Create new features using month, weekday, hour and minute\n",
    "    X_rep['month'] = datetime.dt.month\n",
    "    X_rep['weekday'] = datetime.dt.weekday\n",
    "    X_rep['hour'] = datetime.dt.hour\n",
    "    X_rep['minute'] = datetime.dt.minute\n",
    "    \n",
    "    # Consider periodic effects\n",
    "    X_rep['month_sin'] = np.sin(2*np.pi*X_rep['month']/12)\n",
    "    X_rep['month_cos'] = np.cos(2*np.pi*X_rep['month']/12)\n",
    "    \n",
    "    # Get rid of Datetime\n",
    "    return X_rep.drop(columns=['date', 'time'])"
   ]
  },
  {
   "cell_type": "code",
   "execution_count": 208,
   "metadata": {},
   "outputs": [
    {
     "data": {
      "text/html": [
       "<style>#sk-container-id-23 {color: black;background-color: white;}#sk-container-id-23 pre{padding: 0;}#sk-container-id-23 div.sk-toggleable {background-color: white;}#sk-container-id-23 label.sk-toggleable__label {cursor: pointer;display: block;width: 100%;margin-bottom: 0;padding: 0.3em;box-sizing: border-box;text-align: center;}#sk-container-id-23 label.sk-toggleable__label-arrow:before {content: \"▸\";float: left;margin-right: 0.25em;color: #696969;}#sk-container-id-23 label.sk-toggleable__label-arrow:hover:before {color: black;}#sk-container-id-23 div.sk-estimator:hover label.sk-toggleable__label-arrow:before {color: black;}#sk-container-id-23 div.sk-toggleable__content {max-height: 0;max-width: 0;overflow: hidden;text-align: left;background-color: #f0f8ff;}#sk-container-id-23 div.sk-toggleable__content pre {margin: 0.2em;color: black;border-radius: 0.25em;background-color: #f0f8ff;}#sk-container-id-23 input.sk-toggleable__control:checked~div.sk-toggleable__content {max-height: 200px;max-width: 100%;overflow: auto;}#sk-container-id-23 input.sk-toggleable__control:checked~label.sk-toggleable__label-arrow:before {content: \"▾\";}#sk-container-id-23 div.sk-estimator input.sk-toggleable__control:checked~label.sk-toggleable__label {background-color: #d4ebff;}#sk-container-id-23 div.sk-label input.sk-toggleable__control:checked~label.sk-toggleable__label {background-color: #d4ebff;}#sk-container-id-23 input.sk-hidden--visually {border: 0;clip: rect(1px 1px 1px 1px);clip: rect(1px, 1px, 1px, 1px);height: 1px;margin: -1px;overflow: hidden;padding: 0;position: absolute;width: 1px;}#sk-container-id-23 div.sk-estimator {font-family: monospace;background-color: #f0f8ff;border: 1px dotted black;border-radius: 0.25em;box-sizing: border-box;margin-bottom: 0.5em;}#sk-container-id-23 div.sk-estimator:hover {background-color: #d4ebff;}#sk-container-id-23 div.sk-parallel-item::after {content: \"\";width: 100%;border-bottom: 1px solid gray;flex-grow: 1;}#sk-container-id-23 div.sk-label:hover label.sk-toggleable__label {background-color: #d4ebff;}#sk-container-id-23 div.sk-serial::before {content: \"\";position: absolute;border-left: 1px solid gray;box-sizing: border-box;top: 0;bottom: 0;left: 50%;z-index: 0;}#sk-container-id-23 div.sk-serial {display: flex;flex-direction: column;align-items: center;background-color: white;padding-right: 0.2em;padding-left: 0.2em;position: relative;}#sk-container-id-23 div.sk-item {position: relative;z-index: 1;}#sk-container-id-23 div.sk-parallel {display: flex;align-items: stretch;justify-content: center;background-color: white;position: relative;}#sk-container-id-23 div.sk-item::before, #sk-container-id-23 div.sk-parallel-item::before {content: \"\";position: absolute;border-left: 1px solid gray;box-sizing: border-box;top: 0;bottom: 0;left: 50%;z-index: -1;}#sk-container-id-23 div.sk-parallel-item {display: flex;flex-direction: column;z-index: 1;position: relative;background-color: white;}#sk-container-id-23 div.sk-parallel-item:first-child::after {align-self: flex-end;width: 50%;}#sk-container-id-23 div.sk-parallel-item:last-child::after {align-self: flex-start;width: 50%;}#sk-container-id-23 div.sk-parallel-item:only-child::after {width: 0;}#sk-container-id-23 div.sk-dashed-wrapped {border: 1px dashed gray;margin: 0 0.4em 0.5em 0.4em;box-sizing: border-box;padding-bottom: 0.4em;background-color: white;}#sk-container-id-23 div.sk-label label {font-family: monospace;font-weight: bold;display: inline-block;line-height: 1.2em;}#sk-container-id-23 div.sk-label-container {text-align: center;}#sk-container-id-23 div.sk-container {/* jupyter's `normalize.less` sets `[hidden] { display: none; }` but bootstrap.min.css set `[hidden] { display: none !important; }` so we also need the `!important` here to be able to override the default hidden behavior on the sphinx rendered scikit-learn.org. See: https://github.com/scikit-learn/scikit-learn/issues/21755 */display: inline-block !important;position: relative;}#sk-container-id-23 div.sk-text-repr-fallback {display: none;}</style><div id=\"sk-container-id-23\" class=\"sk-top-container\"><div class=\"sk-text-repr-fallback\"><pre>Pipeline(steps=[(&#x27;preparator&#x27;,\n",
       "                 ColumnTransformer(transformers=[(&#x27;imputer&#x27;,\n",
       "                                                  FunctionTransformer(func=&lt;function ffill_nan at 0x7f2fcc7ea5e0&gt;),\n",
       "                                                  [&#x27;global_active_power&#x27;,\n",
       "                                                   &#x27;global_reactive_power&#x27;,\n",
       "                                                   &#x27;voltage&#x27;,\n",
       "                                                   &#x27;global_intensity&#x27;,\n",
       "                                                   &#x27;global_consumption&#x27;]),\n",
       "                                                 (&#x27;datetime_features_adder&#x27;,\n",
       "                                                  FunctionTransformer(func=&lt;function add_datetime_features at 0x7f2fc8ed3ee0&gt;),\n",
       "                                                  [&#x27;date&#x27;, &#x27;time&#x27;])])),\n",
       "                (&#x27;std_scaler&#x27;, StandardScaler()),\n",
       "                (&#x27;estimator&#x27;, RandomForestRegressor(n_estimators=10))])</pre><b>In a Jupyter environment, please rerun this cell to show the HTML representation or trust the notebook. <br />On GitHub, the HTML representation is unable to render, please try loading this page with nbviewer.org.</b></div><div class=\"sk-container\" hidden><div class=\"sk-item sk-dashed-wrapped\"><div class=\"sk-label-container\"><div class=\"sk-label sk-toggleable\"><input class=\"sk-toggleable__control sk-hidden--visually\" id=\"sk-estimator-id-137\" type=\"checkbox\" ><label for=\"sk-estimator-id-137\" class=\"sk-toggleable__label sk-toggleable__label-arrow\">Pipeline</label><div class=\"sk-toggleable__content\"><pre>Pipeline(steps=[(&#x27;preparator&#x27;,\n",
       "                 ColumnTransformer(transformers=[(&#x27;imputer&#x27;,\n",
       "                                                  FunctionTransformer(func=&lt;function ffill_nan at 0x7f2fcc7ea5e0&gt;),\n",
       "                                                  [&#x27;global_active_power&#x27;,\n",
       "                                                   &#x27;global_reactive_power&#x27;,\n",
       "                                                   &#x27;voltage&#x27;,\n",
       "                                                   &#x27;global_intensity&#x27;,\n",
       "                                                   &#x27;global_consumption&#x27;]),\n",
       "                                                 (&#x27;datetime_features_adder&#x27;,\n",
       "                                                  FunctionTransformer(func=&lt;function add_datetime_features at 0x7f2fc8ed3ee0&gt;),\n",
       "                                                  [&#x27;date&#x27;, &#x27;time&#x27;])])),\n",
       "                (&#x27;std_scaler&#x27;, StandardScaler()),\n",
       "                (&#x27;estimator&#x27;, RandomForestRegressor(n_estimators=10))])</pre></div></div></div><div class=\"sk-serial\"><div class=\"sk-item sk-dashed-wrapped\"><div class=\"sk-label-container\"><div class=\"sk-label sk-toggleable\"><input class=\"sk-toggleable__control sk-hidden--visually\" id=\"sk-estimator-id-138\" type=\"checkbox\" ><label for=\"sk-estimator-id-138\" class=\"sk-toggleable__label sk-toggleable__label-arrow\">preparator: ColumnTransformer</label><div class=\"sk-toggleable__content\"><pre>ColumnTransformer(transformers=[(&#x27;imputer&#x27;,\n",
       "                                 FunctionTransformer(func=&lt;function ffill_nan at 0x7f2fcc7ea5e0&gt;),\n",
       "                                 [&#x27;global_active_power&#x27;,\n",
       "                                  &#x27;global_reactive_power&#x27;, &#x27;voltage&#x27;,\n",
       "                                  &#x27;global_intensity&#x27;, &#x27;global_consumption&#x27;]),\n",
       "                                (&#x27;datetime_features_adder&#x27;,\n",
       "                                 FunctionTransformer(func=&lt;function add_datetime_features at 0x7f2fc8ed3ee0&gt;),\n",
       "                                 [&#x27;date&#x27;, &#x27;time&#x27;])])</pre></div></div></div><div class=\"sk-parallel\"><div class=\"sk-parallel-item\"><div class=\"sk-item\"><div class=\"sk-label-container\"><div class=\"sk-label sk-toggleable\"><input class=\"sk-toggleable__control sk-hidden--visually\" id=\"sk-estimator-id-139\" type=\"checkbox\" ><label for=\"sk-estimator-id-139\" class=\"sk-toggleable__label sk-toggleable__label-arrow\">imputer</label><div class=\"sk-toggleable__content\"><pre>[&#x27;global_active_power&#x27;, &#x27;global_reactive_power&#x27;, &#x27;voltage&#x27;, &#x27;global_intensity&#x27;, &#x27;global_consumption&#x27;]</pre></div></div></div><div class=\"sk-serial\"><div class=\"sk-item\"><div class=\"sk-estimator sk-toggleable\"><input class=\"sk-toggleable__control sk-hidden--visually\" id=\"sk-estimator-id-140\" type=\"checkbox\" ><label for=\"sk-estimator-id-140\" class=\"sk-toggleable__label sk-toggleable__label-arrow\">FunctionTransformer</label><div class=\"sk-toggleable__content\"><pre>FunctionTransformer(func=&lt;function ffill_nan at 0x7f2fcc7ea5e0&gt;)</pre></div></div></div></div></div></div><div class=\"sk-parallel-item\"><div class=\"sk-item\"><div class=\"sk-label-container\"><div class=\"sk-label sk-toggleable\"><input class=\"sk-toggleable__control sk-hidden--visually\" id=\"sk-estimator-id-141\" type=\"checkbox\" ><label for=\"sk-estimator-id-141\" class=\"sk-toggleable__label sk-toggleable__label-arrow\">datetime_features_adder</label><div class=\"sk-toggleable__content\"><pre>[&#x27;date&#x27;, &#x27;time&#x27;]</pre></div></div></div><div class=\"sk-serial\"><div class=\"sk-item\"><div class=\"sk-estimator sk-toggleable\"><input class=\"sk-toggleable__control sk-hidden--visually\" id=\"sk-estimator-id-142\" type=\"checkbox\" ><label for=\"sk-estimator-id-142\" class=\"sk-toggleable__label sk-toggleable__label-arrow\">FunctionTransformer</label><div class=\"sk-toggleable__content\"><pre>FunctionTransformer(func=&lt;function add_datetime_features at 0x7f2fc8ed3ee0&gt;)</pre></div></div></div></div></div></div></div></div><div class=\"sk-item\"><div class=\"sk-estimator sk-toggleable\"><input class=\"sk-toggleable__control sk-hidden--visually\" id=\"sk-estimator-id-143\" type=\"checkbox\" ><label for=\"sk-estimator-id-143\" class=\"sk-toggleable__label sk-toggleable__label-arrow\">StandardScaler</label><div class=\"sk-toggleable__content\"><pre>StandardScaler()</pre></div></div></div><div class=\"sk-item\"><div class=\"sk-estimator sk-toggleable\"><input class=\"sk-toggleable__control sk-hidden--visually\" id=\"sk-estimator-id-144\" type=\"checkbox\" ><label for=\"sk-estimator-id-144\" class=\"sk-toggleable__label sk-toggleable__label-arrow\">RandomForestRegressor</label><div class=\"sk-toggleable__content\"><pre>RandomForestRegressor(n_estimators=10)</pre></div></div></div></div></div></div></div>"
      ],
      "text/plain": [
       "Pipeline(steps=[('preparator',\n",
       "                 ColumnTransformer(transformers=[('imputer',\n",
       "                                                  FunctionTransformer(func=<function ffill_nan at 0x7f2fcc7ea5e0>),\n",
       "                                                  ['global_active_power',\n",
       "                                                   'global_reactive_power',\n",
       "                                                   'voltage',\n",
       "                                                   'global_intensity',\n",
       "                                                   'global_consumption']),\n",
       "                                                 ('datetime_features_adder',\n",
       "                                                  FunctionTransformer(func=<function add_datetime_features at 0x7f2fc8ed3ee0>),\n",
       "                                                  ['date', 'time'])])),\n",
       "                ('std_scaler', StandardScaler()),\n",
       "                ('estimator', RandomForestRegressor(n_estimators=10))])"
      ]
     },
     "execution_count": 208,
     "metadata": {},
     "output_type": "execute_result"
    }
   ],
   "source": [
    "# Create a pipeline to preprocess the data\n",
    "\n",
    "n_estimators = 10\n",
    "\n",
    "features = ['global_active_power', 'global_reactive_power', 'voltage', 'global_intensity', 'global_consumption']\n",
    "datetimes = ['date', 'time']\n",
    "\n",
    "preparator = ColumnTransformer([ \n",
    "    ('imputer', FunctionTransformer(ffill_nan), features),\n",
    "    ('datetime_features_adder', FunctionTransformer(add_datetime_features), datetimes)\n",
    "])\n",
    "\n",
    "pipeline = Pipeline([\n",
    "    ('preparator', preparator),\n",
    "    ('std_scaler', StandardScaler()),\n",
    "    ('estimator', RandomForestRegressor(n_estimators=n_estimators))\n",
    "])\n",
    "\n",
    "pipeline"
   ]
  },
  {
   "cell_type": "markdown",
   "metadata": {},
   "source": [
    "# 3. Prepare the data to train"
   ]
  },
  {
   "cell_type": "code",
   "execution_count": 209,
   "metadata": {},
   "outputs": [
    {
     "name": "stdout",
     "output_type": "stream",
     "text": [
      "<class 'pandas.core.frame.DataFrame'>\n",
      "Int64Index: 527040 entries, 547596 to 1074635\n",
      "Data columns (total 9 columns):\n",
      " #   Column                 Non-Null Count   Dtype  \n",
      "---  ------                 --------------   -----  \n",
      " 0   date                   527040 non-null  object \n",
      " 1   time                   527040 non-null  object \n",
      " 2   global_active_power    526905 non-null  float64\n",
      " 3   global_reactive_power  526905 non-null  float64\n",
      " 4   voltage                526905 non-null  float64\n",
      " 5   global_intensity       526905 non-null  float64\n",
      " 6   sub_metering_1         526905 non-null  float64\n",
      " 7   sub_metering_2         526905 non-null  float64\n",
      " 8   sub_metering_3         526905 non-null  float64\n",
      "dtypes: float64(7), object(2)\n",
      "memory usage: 40.2+ MB\n"
     ]
    }
   ],
   "source": [
    "# Take just a subset of the data for now (year==2008)\n",
    "data = pd.read_csv('../data/household_power_consumption.txt', sep=';', na_values='?')\n",
    "data = data[data.Date.str.endswith('2008')]\n",
    "data.columns = data.columns.str.lower()\n",
    "data.info()"
   ]
  },
  {
   "cell_type": "code",
   "execution_count": 210,
   "metadata": {},
   "outputs": [],
   "source": [
    "labels = ['sub_metering_1', 'sub_metering_2', 'sub_metering_3']\n",
    "data['global_consumption'] = data[labels].sum(axis=1)"
   ]
  },
  {
   "cell_type": "code",
   "execution_count": 211,
   "metadata": {},
   "outputs": [
    {
     "data": {
      "text/plain": [
       "((527040, 7), (527040, 3))"
      ]
     },
     "execution_count": 211,
     "metadata": {},
     "output_type": "execute_result"
    }
   ],
   "source": [
    "# Create X, y and save datetime in a separeted column\n",
    "X = data.drop(columns=labels)\n",
    "y = data[labels]\n",
    "X.shape, y.shape"
   ]
  },
  {
   "cell_type": "code",
   "execution_count": 212,
   "metadata": {},
   "outputs": [
    {
     "data": {
      "text/plain": [
       "sub_metering_1    135\n",
       "sub_metering_2    135\n",
       "sub_metering_3    135\n",
       "dtype: int64"
      ]
     },
     "execution_count": 212,
     "metadata": {},
     "output_type": "execute_result"
    }
   ],
   "source": [
    "y.isna().sum()"
   ]
  },
  {
   "cell_type": "code",
   "execution_count": 213,
   "metadata": {},
   "outputs": [],
   "source": [
    "# Remove na values from y\n",
    "y = y.fillna(method='ffill', axis=0)"
   ]
  },
  {
   "cell_type": "code",
   "execution_count": 214,
   "metadata": {},
   "outputs": [
    {
     "data": {
      "text/html": [
       "<div>\n",
       "<style scoped>\n",
       "    .dataframe tbody tr th:only-of-type {\n",
       "        vertical-align: middle;\n",
       "    }\n",
       "\n",
       "    .dataframe tbody tr th {\n",
       "        vertical-align: top;\n",
       "    }\n",
       "\n",
       "    .dataframe thead th {\n",
       "        text-align: right;\n",
       "    }\n",
       "</style>\n",
       "<table border=\"1\" class=\"dataframe\">\n",
       "  <thead>\n",
       "    <tr style=\"text-align: right;\">\n",
       "      <th></th>\n",
       "      <th>date</th>\n",
       "      <th>time</th>\n",
       "      <th>global_active_power</th>\n",
       "      <th>global_reactive_power</th>\n",
       "      <th>voltage</th>\n",
       "      <th>global_intensity</th>\n",
       "      <th>global_consumption</th>\n",
       "    </tr>\n",
       "  </thead>\n",
       "  <tbody>\n",
       "    <tr>\n",
       "      <th>547596</th>\n",
       "      <td>1/1/2008</td>\n",
       "      <td>00:00:00</td>\n",
       "      <td>1.620</td>\n",
       "      <td>0.070</td>\n",
       "      <td>241.25</td>\n",
       "      <td>6.6</td>\n",
       "      <td>18.0</td>\n",
       "    </tr>\n",
       "    <tr>\n",
       "      <th>547597</th>\n",
       "      <td>1/1/2008</td>\n",
       "      <td>00:01:00</td>\n",
       "      <td>1.626</td>\n",
       "      <td>0.072</td>\n",
       "      <td>241.74</td>\n",
       "      <td>6.6</td>\n",
       "      <td>18.0</td>\n",
       "    </tr>\n",
       "    <tr>\n",
       "      <th>547598</th>\n",
       "      <td>1/1/2008</td>\n",
       "      <td>00:02:00</td>\n",
       "      <td>1.622</td>\n",
       "      <td>0.072</td>\n",
       "      <td>241.52</td>\n",
       "      <td>6.6</td>\n",
       "      <td>18.0</td>\n",
       "    </tr>\n",
       "    <tr>\n",
       "      <th>547599</th>\n",
       "      <td>1/1/2008</td>\n",
       "      <td>00:03:00</td>\n",
       "      <td>1.612</td>\n",
       "      <td>0.070</td>\n",
       "      <td>240.82</td>\n",
       "      <td>6.6</td>\n",
       "      <td>18.0</td>\n",
       "    </tr>\n",
       "    <tr>\n",
       "      <th>547600</th>\n",
       "      <td>1/1/2008</td>\n",
       "      <td>00:04:00</td>\n",
       "      <td>1.612</td>\n",
       "      <td>0.070</td>\n",
       "      <td>240.80</td>\n",
       "      <td>6.6</td>\n",
       "      <td>18.0</td>\n",
       "    </tr>\n",
       "  </tbody>\n",
       "</table>\n",
       "</div>"
      ],
      "text/plain": [
       "            date      time  global_active_power  global_reactive_power  \\\n",
       "547596  1/1/2008  00:00:00                1.620                  0.070   \n",
       "547597  1/1/2008  00:01:00                1.626                  0.072   \n",
       "547598  1/1/2008  00:02:00                1.622                  0.072   \n",
       "547599  1/1/2008  00:03:00                1.612                  0.070   \n",
       "547600  1/1/2008  00:04:00                1.612                  0.070   \n",
       "\n",
       "        voltage  global_intensity  global_consumption  \n",
       "547596   241.25               6.6                18.0  \n",
       "547597   241.74               6.6                18.0  \n",
       "547598   241.52               6.6                18.0  \n",
       "547599   240.82               6.6                18.0  \n",
       "547600   240.80               6.6                18.0  "
      ]
     },
     "execution_count": 214,
     "metadata": {},
     "output_type": "execute_result"
    }
   ],
   "source": [
    "X.head()"
   ]
  },
  {
   "cell_type": "code",
   "execution_count": 215,
   "metadata": {},
   "outputs": [
    {
     "data": {
      "text/html": [
       "<div>\n",
       "<style scoped>\n",
       "    .dataframe tbody tr th:only-of-type {\n",
       "        vertical-align: middle;\n",
       "    }\n",
       "\n",
       "    .dataframe tbody tr th {\n",
       "        vertical-align: top;\n",
       "    }\n",
       "\n",
       "    .dataframe thead th {\n",
       "        text-align: right;\n",
       "    }\n",
       "</style>\n",
       "<table border=\"1\" class=\"dataframe\">\n",
       "  <thead>\n",
       "    <tr style=\"text-align: right;\">\n",
       "      <th></th>\n",
       "      <th>sub_metering_1</th>\n",
       "      <th>sub_metering_2</th>\n",
       "      <th>sub_metering_3</th>\n",
       "    </tr>\n",
       "  </thead>\n",
       "  <tbody>\n",
       "    <tr>\n",
       "      <th>547596</th>\n",
       "      <td>0.0</td>\n",
       "      <td>0.0</td>\n",
       "      <td>18.0</td>\n",
       "    </tr>\n",
       "    <tr>\n",
       "      <th>547597</th>\n",
       "      <td>0.0</td>\n",
       "      <td>0.0</td>\n",
       "      <td>18.0</td>\n",
       "    </tr>\n",
       "    <tr>\n",
       "      <th>547598</th>\n",
       "      <td>0.0</td>\n",
       "      <td>0.0</td>\n",
       "      <td>18.0</td>\n",
       "    </tr>\n",
       "    <tr>\n",
       "      <th>547599</th>\n",
       "      <td>0.0</td>\n",
       "      <td>0.0</td>\n",
       "      <td>18.0</td>\n",
       "    </tr>\n",
       "    <tr>\n",
       "      <th>547600</th>\n",
       "      <td>0.0</td>\n",
       "      <td>0.0</td>\n",
       "      <td>18.0</td>\n",
       "    </tr>\n",
       "  </tbody>\n",
       "</table>\n",
       "</div>"
      ],
      "text/plain": [
       "        sub_metering_1  sub_metering_2  sub_metering_3\n",
       "547596             0.0             0.0            18.0\n",
       "547597             0.0             0.0            18.0\n",
       "547598             0.0             0.0            18.0\n",
       "547599             0.0             0.0            18.0\n",
       "547600             0.0             0.0            18.0"
      ]
     },
     "execution_count": 215,
     "metadata": {},
     "output_type": "execute_result"
    }
   ],
   "source": [
    "y.head()"
   ]
  },
  {
   "cell_type": "code",
   "execution_count": 216,
   "metadata": {},
   "outputs": [
    {
     "data": {
      "text/plain": [
       "((368928, 7), (158112, 7), (368928, 3), (158112, 3))"
      ]
     },
     "execution_count": 216,
     "metadata": {},
     "output_type": "execute_result"
    }
   ],
   "source": [
    "# Train/test Split /!\\ For later, if we use sequential models (ARIMA, RNN): see if we consider a TS special train/test split (to keep sequence's logic)\n",
    "X_train, X_test, y_train, y_test = train_test_split(X, y, test_size=0.3)\n",
    "X_train.shape, X_test.shape, y_train.shape, y_test.shape"
   ]
  },
  {
   "cell_type": "code",
   "execution_count": 217,
   "metadata": {},
   "outputs": [
    {
     "data": {
      "text/html": [
       "<div>\n",
       "<style scoped>\n",
       "    .dataframe tbody tr th:only-of-type {\n",
       "        vertical-align: middle;\n",
       "    }\n",
       "\n",
       "    .dataframe tbody tr th {\n",
       "        vertical-align: top;\n",
       "    }\n",
       "\n",
       "    .dataframe thead th {\n",
       "        text-align: right;\n",
       "    }\n",
       "</style>\n",
       "<table border=\"1\" class=\"dataframe\">\n",
       "  <thead>\n",
       "    <tr style=\"text-align: right;\">\n",
       "      <th></th>\n",
       "      <th>date</th>\n",
       "      <th>time</th>\n",
       "      <th>global_active_power</th>\n",
       "      <th>global_reactive_power</th>\n",
       "      <th>voltage</th>\n",
       "      <th>global_intensity</th>\n",
       "      <th>global_consumption</th>\n",
       "    </tr>\n",
       "  </thead>\n",
       "  <tbody>\n",
       "    <tr>\n",
       "      <th>650931</th>\n",
       "      <td>12/3/2008</td>\n",
       "      <td>18:15:00</td>\n",
       "      <td>0.290</td>\n",
       "      <td>0.068</td>\n",
       "      <td>242.57</td>\n",
       "      <td>1.2</td>\n",
       "      <td>0.0</td>\n",
       "    </tr>\n",
       "    <tr>\n",
       "      <th>1047360</th>\n",
       "      <td>13/12/2008</td>\n",
       "      <td>01:24:00</td>\n",
       "      <td>0.296</td>\n",
       "      <td>0.072</td>\n",
       "      <td>243.50</td>\n",
       "      <td>1.2</td>\n",
       "      <td>2.0</td>\n",
       "    </tr>\n",
       "    <tr>\n",
       "      <th>892799</th>\n",
       "      <td>27/8/2008</td>\n",
       "      <td>17:23:00</td>\n",
       "      <td>0.082</td>\n",
       "      <td>0.000</td>\n",
       "      <td>242.81</td>\n",
       "      <td>0.2</td>\n",
       "      <td>1.0</td>\n",
       "    </tr>\n",
       "    <tr>\n",
       "      <th>852767</th>\n",
       "      <td>30/7/2008</td>\n",
       "      <td>22:11:00</td>\n",
       "      <td>2.196</td>\n",
       "      <td>0.218</td>\n",
       "      <td>239.37</td>\n",
       "      <td>9.2</td>\n",
       "      <td>22.0</td>\n",
       "    </tr>\n",
       "    <tr>\n",
       "      <th>1017365</th>\n",
       "      <td>22/11/2008</td>\n",
       "      <td>05:29:00</td>\n",
       "      <td>0.414</td>\n",
       "      <td>0.168</td>\n",
       "      <td>242.54</td>\n",
       "      <td>1.8</td>\n",
       "      <td>1.0</td>\n",
       "    </tr>\n",
       "  </tbody>\n",
       "</table>\n",
       "</div>"
      ],
      "text/plain": [
       "               date      time  global_active_power  global_reactive_power  \\\n",
       "650931    12/3/2008  18:15:00                0.290                  0.068   \n",
       "1047360  13/12/2008  01:24:00                0.296                  0.072   \n",
       "892799    27/8/2008  17:23:00                0.082                  0.000   \n",
       "852767    30/7/2008  22:11:00                2.196                  0.218   \n",
       "1017365  22/11/2008  05:29:00                0.414                  0.168   \n",
       "\n",
       "         voltage  global_intensity  global_consumption  \n",
       "650931    242.57               1.2                 0.0  \n",
       "1047360   243.50               1.2                 2.0  \n",
       "892799    242.81               0.2                 1.0  \n",
       "852767    239.37               9.2                22.0  \n",
       "1017365   242.54               1.8                 1.0  "
      ]
     },
     "execution_count": 217,
     "metadata": {},
     "output_type": "execute_result"
    }
   ],
   "source": [
    "X_train.head()"
   ]
  },
  {
   "cell_type": "markdown",
   "metadata": {},
   "source": [
    "# 4. Train and save the pipeline"
   ]
  },
  {
   "cell_type": "code",
   "execution_count": 218,
   "metadata": {},
   "outputs": [],
   "source": [
    "# Function to save the pipeline locally\n",
    "def save_pipeline(pipeline: Pipeline = None,\n",
    "                  params: dict = None,\n",
    "                  metrics: dict = None) -> None:\n",
    "    \"\"\"\n",
    "    persist trained pipeline, params and metrics\n",
    "    \"\"\"\n",
    "\n",
    "    timestamp = time.strftime(\"%Y%m%d-%H%M%S\")\n",
    "\n",
    "    print(Fore.BLUE + \"\\nSave model to local disk...\" + Style.RESET_ALL)\n",
    "\n",
    "    # save params\n",
    "    if params is not None:\n",
    "        params_path = os.path.join(LOCAL_REGISTRY_PATH, \"params\", timestamp + \".pickle\")\n",
    "        with open(params_path, \"wb\") as file:\n",
    "            pickle.dump(params, file)\n",
    "\n",
    "    # save metrics\n",
    "    if metrics is not None:\n",
    "        metrics_path = os.path.join(LOCAL_REGISTRY_PATH, \"metrics\", timestamp + \".pickle\")\n",
    "        with open(metrics_path, \"wb\") as file:\n",
    "            pickle.dump(metrics, file)\n",
    "\n",
    "    # save pipeline\n",
    "    if pipeline is not None:\n",
    "        pipeline_path = os.path.join(LOCAL_REGISTRY_PATH, \"models\", timestamp + \".joblib\")\n",
    "        dump(pipeline, pipeline_path)\n",
    "         \n",
    "    print(\"\\n✅ data saved locally\")\n",
    "\n",
    "    return None"
   ]
  },
  {
   "cell_type": "code",
   "execution_count": 219,
   "metadata": {},
   "outputs": [
    {
     "name": "stdout",
     "output_type": "stream",
     "text": [
      "{'r2_score': 0.8895890490855001}\n",
      "\u001b[34m\n",
      "Save model to local disk...\u001b[0m\n",
      "\n",
      "✅ data saved locally\n",
      "CPU times: user 1min 20s, sys: 129 ms, total: 1min 20s\n",
      "Wall time: 1min 20s\n"
     ]
    }
   ],
   "source": [
    "%%time\n",
    "\n",
    "# Fit the pipeline\n",
    "pipeline.fit(X_train, y_train)\n",
    "\n",
    "# Mesure its performance\n",
    "r2_score = pipeline.score(X_test, y_test)\n",
    "#r2_score = pipeline.score(X_test[['Voltage']].dropna(), y_test.dropna())\n",
    "\n",
    "# Save it locally\n",
    "params = dict(\n",
    "    # Model parameters\n",
    "    n_estimators=10,\n",
    "\n",
    "    # Package behavior\n",
    "    context=\"train\",\n",
    "\n",
    "    # Data used to fit\n",
    "    dataset_start=data.date.iloc[0],\n",
    "    dataset_end=data.date.iloc[-1]\n",
    ")\n",
    "\n",
    "metrics = dict(r2_score=r2_score)\n",
    "print(metrics)\n",
    "\n",
    "save_pipeline(pipeline, params, metrics)"
   ]
  }
 ],
 "metadata": {
  "kernelspec": {
   "display_name": "Python 3.8.12 64-bit ('elec-decipherer')",
   "language": "python",
   "name": "python3"
  },
  "language_info": {
   "codemirror_mode": {
    "name": "ipython",
    "version": 3
   },
   "file_extension": ".py",
   "mimetype": "text/x-python",
   "name": "python",
   "nbconvert_exporter": "python",
   "pygments_lexer": "ipython3",
   "version": "3.8.12"
  },
  "orig_nbformat": 4,
  "vscode": {
   "interpreter": {
    "hash": "f1b9b75e2b66bc22b8d5550328bf14b21cfa36685771a3db36a88c382e5b5652"
   }
  }
 },
 "nbformat": 4,
 "nbformat_minor": 2
}
